{
  "nbformat": 4,
  "nbformat_minor": 0,
  "metadata": {
    "colab": {
      "name": "KevinSebineza_DM_Assignment3.ipynb",
      "provenance": [],
      "collapsed_sections": []
    },
    "kernelspec": {
      "name": "python3",
      "display_name": "Python 3"
    },
    "language_info": {
      "name": "python"
    },
    "accelerator": "GPU"
  },
  "cells": [
    {
      "cell_type": "markdown",
      "metadata": {
        "id": "3gMbJzSNJuaT"
      },
      "source": [
        "### **Link to the github repo: https://github.com/9kevin/Data-Mining-Assignment-3**"
      ]
    },
    {
      "cell_type": "code",
      "metadata": {
        "id": "fXegcRKjJrFy"
      },
      "source": [
        "import pandas as pd\n",
        "import numpy as np\n",
        "import matplotlib.pyplot as plt\n",
        "import seaborn as sns"
      ],
      "execution_count": 1,
      "outputs": []
    },
    {
      "cell_type": "code",
      "metadata": {
        "colab": {
          "base_uri": "https://localhost:8080/"
        },
        "id": "JPvJQHtBkCI8",
        "outputId": "6ff9ad02-c828-4868-ee01-83225e979cc3"
      },
      "source": [
        "# Mounting the drive\n",
        "from google.colab import drive\n",
        "drive.mount('/content/drive')"
      ],
      "execution_count": 2,
      "outputs": [
        {
          "output_type": "stream",
          "text": [
            "Go to this URL in a browser: https://accounts.google.com/o/oauth2/auth?client_id=947318989803-6bn6qk8qdgf4n4g3pfee6491hc0brc4i.apps.googleusercontent.com&redirect_uri=urn%3aietf%3awg%3aoauth%3a2.0%3aoob&scope=email%20https%3a%2f%2fwww.googleapis.com%2fauth%2fdocs.test%20https%3a%2f%2fwww.googleapis.com%2fauth%2fdrive%20https%3a%2f%2fwww.googleapis.com%2fauth%2fdrive.photos.readonly%20https%3a%2f%2fwww.googleapis.com%2fauth%2fpeopleapi.readonly%20https%3a%2f%2fwww.googleapis.com%2fauth%2fdrive.activity.readonly%20https%3a%2f%2fwww.googleapis.com%2fauth%2fexperimentsandconfigs%20https%3a%2f%2fwww.googleapis.com%2fauth%2fphotos.native&response_type=code\n",
            "\n",
            "Enter your authorization code:\n",
            "4/1AY0e-g6V5WY4akMNSX3DKTWiL1x49zYudtAGZBdErdy1RAlVqhf6oMEo7tI\n"
          ],
          "name": "stdout"
        },
        {
          "output_type": "stream",
          "text": [
            "Mounted at /content/drive\n"
          ],
          "name": "stdout"
        }
      ]
    },
    {
      "cell_type": "code",
      "metadata": {
        "id": "soM1REjvmahr"
      },
      "source": [
        "# Functions for preprocessing server logs\n",
        "from datetime import datetime\n",
        "import pytz\n",
        "\n",
        "# Parse string\n",
        "def parse_str(x):\n",
        "    if x is None:\n",
        "        return '-'\n",
        "    return x[1:-1]\n",
        "\n",
        "# Parse int\n",
        "def parse_int(x):\n",
        "    \"\"\"Returns parsed string if no error occured during parse else returns 0\"\"\"\n",
        "    if x is None:\n",
        "        return 0\n",
        "    try:\n",
        "        y = int(x)\n",
        "        return y\n",
        "    except ValueError:\n",
        "        return 0  \n",
        "\n",
        "# Parse datetime\n",
        "def parse_datetime(x):\n",
        "    try:\n",
        "        dt = datetime.strptime(x[1:-7], '%d/%b/%Y:%H:%M:%S')\n",
        "        dt_tz = int(x[-6:-3])*60+int(x[-3:-1])\n",
        "        return dt.replace(tzinfo=pytz.FixedOffset(dt_tz))\n",
        "    except ValueError:\n",
        "        return '-'\n",
        "\n",
        "def make_full_url(url):\n",
        "  if url.startswith('http://www'):\n",
        "    pass\n",
        "  else:\n",
        "    return url.replace('http://', 'http://www.')\n",
        "\n",
        "\n",
        "conv = {'time': parse_datetime,\n",
        "        'request': parse_str,\n",
        "        'status': parse_int,\n",
        "        'size': parse_int,\n",
        "        'referer': parse_str,\n",
        "        'user_agent': parse_str}"
      ],
      "execution_count": 3,
      "outputs": []
    },
    {
      "cell_type": "code",
      "metadata": {
        "id": "GxaywYiSkIbP"
      },
      "source": [
        "# Importing the dataset\n",
        "path = 'drive/My Drive'\n",
        "df = pd.read_csv(path+'/new_log', header=None, error_bad_lines=False, sep=r'\\s(?=(?:[^\"]*\"[^\"]*\")*[^\"]*$)(?![^\\[]*\\])',\n",
        "                    engine='python', na_values='-', usecols=[0, 3, 4, 5, 6, 7, 8], #names=['ip', 'time', 'request', 'status', 'size', 'referer', 'user_agent'],\n",
        "                    names=['IP_address', 'Time_of_activity','Requested_Page', 'Status_Code', 'Size_of_Page', 'Referer_page','Client_Device'],\n",
        "                    converters=conv)\n",
        "df = df.head(100000) # Taking only 100K data"
      ],
      "execution_count": 4,
      "outputs": []
    },
    {
      "cell_type": "code",
      "metadata": {
        "colab": {
          "base_uri": "https://localhost:8080/"
        },
        "id": "hT_b7Hx_lQcS",
        "outputId": "95d64901-ad24-4082-fdd8-48698a7e8ec8"
      },
      "source": [
        "# Checking basic information of the dataset\n",
        "df.info()"
      ],
      "execution_count": 5,
      "outputs": [
        {
          "output_type": "stream",
          "text": [
            "<class 'pandas.core.frame.DataFrame'>\n",
            "RangeIndex: 100000 entries, 0 to 99999\n",
            "Data columns (total 7 columns):\n",
            " #   Column            Non-Null Count   Dtype  \n",
            "---  ------            --------------   -----  \n",
            " 0   IP_address        100000 non-null  object \n",
            " 1   Time_of_activity  100000 non-null  object \n",
            " 2   Requested_Page    100000 non-null  object \n",
            " 3   Status_Code       100000 non-null  float64\n",
            " 4   Size_of_Page      99215 non-null   float64\n",
            " 5   Referer_page      100000 non-null  object \n",
            " 6   Client_Device     100000 non-null  object \n",
            "dtypes: float64(2), object(5)\n",
            "memory usage: 5.3+ MB\n"
          ],
          "name": "stdout"
        }
      ]
    },
    {
      "cell_type": "code",
      "metadata": {
        "colab": {
          "base_uri": "https://localhost:8080/"
        },
        "id": "w1McmOvRswr_",
        "outputId": "9927167d-26e1-47b8-a6d6-85e3b255d906"
      },
      "source": [
        "# Checking for missing values\n",
        "for col in df.columns:\n",
        "  if len(df[df[col].isnull()]) > 0:\n",
        "    print(\"Column \", col, \" has \", len(df[df[col].isnull()]), \" missing values\")"
      ],
      "execution_count": 6,
      "outputs": [
        {
          "output_type": "stream",
          "text": [
            "Column  Size_of_Page  has  785  missing values\n"
          ],
          "name": "stdout"
        }
      ]
    },
    {
      "cell_type": "code",
      "metadata": {
        "colab": {
          "base_uri": "https://localhost:8080/"
        },
        "id": "PRhXABsytmND",
        "outputId": "34f2626d-7e61-41ad-f354-5d2a738ff4ac"
      },
      "source": [
        "# Dropping all null values\n",
        "df = df.dropna()\n",
        "df.info()"
      ],
      "execution_count": 7,
      "outputs": [
        {
          "output_type": "stream",
          "text": [
            "<class 'pandas.core.frame.DataFrame'>\n",
            "Int64Index: 99215 entries, 0 to 99999\n",
            "Data columns (total 7 columns):\n",
            " #   Column            Non-Null Count  Dtype  \n",
            "---  ------            --------------  -----  \n",
            " 0   IP_address        99215 non-null  object \n",
            " 1   Time_of_activity  99215 non-null  object \n",
            " 2   Requested_Page    99215 non-null  object \n",
            " 3   Status_Code       99215 non-null  float64\n",
            " 4   Size_of_Page      99215 non-null  float64\n",
            " 5   Referer_page      99215 non-null  object \n",
            " 6   Client_Device     99215 non-null  object \n",
            "dtypes: float64(2), object(5)\n",
            "memory usage: 6.1+ MB\n"
          ],
          "name": "stdout"
        }
      ]
    },
    {
      "cell_type": "code",
      "metadata": {
        "colab": {
          "base_uri": "https://localhost:8080/"
        },
        "id": "JzWgIahPtqqh",
        "outputId": "7946dbf1-6a14-4028-f376-eb2515853dc8"
      },
      "source": [
        "df[\"unique_user\"] = df['IP_address'] + df['Client_Device']\n",
        "df.info()"
      ],
      "execution_count": 8,
      "outputs": [
        {
          "output_type": "stream",
          "text": [
            "<class 'pandas.core.frame.DataFrame'>\n",
            "Int64Index: 99215 entries, 0 to 99999\n",
            "Data columns (total 8 columns):\n",
            " #   Column            Non-Null Count  Dtype  \n",
            "---  ------            --------------  -----  \n",
            " 0   IP_address        99215 non-null  object \n",
            " 1   Time_of_activity  99215 non-null  object \n",
            " 2   Requested_Page    99215 non-null  object \n",
            " 3   Status_Code       99215 non-null  float64\n",
            " 4   Size_of_Page      99215 non-null  float64\n",
            " 5   Referer_page      99215 non-null  object \n",
            " 6   Client_Device     99215 non-null  object \n",
            " 7   unique_user       99215 non-null  object \n",
            "dtypes: float64(2), object(6)\n",
            "memory usage: 6.8+ MB\n"
          ],
          "name": "stdout"
        }
      ]
    },
    {
      "cell_type": "markdown",
      "metadata": {
        "id": "LIdcnyCnwUgn"
      },
      "source": [
        "### **Question 1: Find 10 people who visited the site frequently**"
      ]
    },
    {
      "cell_type": "code",
      "metadata": {
        "colab": {
          "base_uri": "https://localhost:8080/",
          "height": 407
        },
        "id": "N0Ft0QtTwGY2",
        "outputId": "ce60b3b7-3426-4462-a181-15c670ad877a"
      },
      "source": [
        "# Listing the top 10 unique users who visited the site frequently\n",
        "piv1 = df.pivot_table(\"Time_of_activity\", index=\"unique_user\", aggfunc='count')\n",
        "piv1 = piv1.sort_values(ascending=False, by='Time_of_activity')\n",
        "piv1[:10]"
      ],
      "execution_count": 9,
      "outputs": [
        {
          "output_type": "execute_result",
          "data": {
            "text/html": [
              "<div>\n",
              "<style scoped>\n",
              "    .dataframe tbody tr th:only-of-type {\n",
              "        vertical-align: middle;\n",
              "    }\n",
              "\n",
              "    .dataframe tbody tr th {\n",
              "        vertical-align: top;\n",
              "    }\n",
              "\n",
              "    .dataframe thead th {\n",
              "        text-align: right;\n",
              "    }\n",
              "</style>\n",
              "<table border=\"1\" class=\"dataframe\">\n",
              "  <thead>\n",
              "    <tr style=\"text-align: right;\">\n",
              "      <th></th>\n",
              "      <th>Time_of_activity</th>\n",
              "    </tr>\n",
              "    <tr>\n",
              "      <th>unique_user</th>\n",
              "      <th></th>\n",
              "    </tr>\n",
              "  </thead>\n",
              "  <tbody>\n",
              "    <tr>\n",
              "      <th>205.167.170.15\"Go-http-client/1.1\"</th>\n",
              "      <td>13463</td>\n",
              "    </tr>\n",
              "    <tr>\n",
              "      <th>79.142.95.122\"Mozilla/5.0 (Windows NT 5.1; rv:29.0) Gecko/20100101 Firefox/29.0\"</th>\n",
              "      <td>3205</td>\n",
              "    </tr>\n",
              "    <tr>\n",
              "      <th>148.251.50.49\"-\"</th>\n",
              "      <td>1929</td>\n",
              "    </tr>\n",
              "    <tr>\n",
              "      <th>205.167.170.15\"python-requests/1.2.3 CPython/2.7.5 Linux/3.14.27-100.fc19.x86_64\"</th>\n",
              "      <td>1733</td>\n",
              "    </tr>\n",
              "    <tr>\n",
              "      <th>37.1.206.196\"Mozilla/5.0 (Windows NT 6.1; WOW64) AppleWebKit/537.36 (KHTML, like Gecko) Chrome/31.0.1650.57 Safari/537.36\"</th>\n",
              "      <td>536</td>\n",
              "    </tr>\n",
              "    <tr>\n",
              "      <th>84.112.161.41\"Mozilla/5.0 (Linux; Android 5.0.2; HTC_One Build/LRX22G) AppleWebKit/537.36 (KHTML, like Gecko) Version/4.0 Chrome/33.0.0.0 Mobile Safari/537.36\"</th>\n",
              "      <td>414</td>\n",
              "    </tr>\n",
              "    <tr>\n",
              "      <th>52.22.118.215\"Python-urllib/2.7\"</th>\n",
              "      <td>367</td>\n",
              "    </tr>\n",
              "    <tr>\n",
              "      <th>52.22.118.215\"Python-urllib/1.17\"</th>\n",
              "      <td>367</td>\n",
              "    </tr>\n",
              "    <tr>\n",
              "      <th>205.167.170.15\"Mozilla/5.0 (X11; Linux x86_64; rv:44.0) Gecko/20100101 Firefox/44.0\"</th>\n",
              "      <td>320</td>\n",
              "    </tr>\n",
              "    <tr>\n",
              "      <th>91.200.12.22\"Opera/9.80 (Windows NT 5.1; U; ru) Presto/2.9.168 Version/11.50\"</th>\n",
              "      <td>287</td>\n",
              "    </tr>\n",
              "  </tbody>\n",
              "</table>\n",
              "</div>"
            ],
            "text/plain": [
              "                                                    Time_of_activity\n",
              "unique_user                                                         \n",
              "205.167.170.15\"Go-http-client/1.1\"                             13463\n",
              "79.142.95.122\"Mozilla/5.0 (Windows NT 5.1; rv:2...              3205\n",
              "148.251.50.49\"-\"                                                1929\n",
              "205.167.170.15\"python-requests/1.2.3 CPython/2....              1733\n",
              "37.1.206.196\"Mozilla/5.0 (Windows NT 6.1; WOW64...               536\n",
              "84.112.161.41\"Mozilla/5.0 (Linux; Android 5.0.2...               414\n",
              "52.22.118.215\"Python-urllib/2.7\"                                 367\n",
              "52.22.118.215\"Python-urllib/1.17\"                                367\n",
              "205.167.170.15\"Mozilla/5.0 (X11; Linux x86_64; ...               320\n",
              "91.200.12.22\"Opera/9.80 (Windows NT 5.1; U; ru)...               287"
            ]
          },
          "metadata": {
            "tags": []
          },
          "execution_count": 9
        }
      ]
    },
    {
      "cell_type": "markdown",
      "metadata": {
        "id": "cVXny361mAzc"
      },
      "source": [
        "### **Question 2: Showing five sessions and page views for each sessions**"
      ]
    },
    {
      "cell_type": "code",
      "metadata": {
        "colab": {
          "base_uri": "https://localhost:8080/",
          "height": 405
        },
        "id": "9Bew61Xi62qP",
        "outputId": "f443a6ce-77ae-4659-f395-7cd3572a2495"
      },
      "source": [
        "# Sessionizing the dataset\n",
        "sess_df = df.groupby(by=['IP_address', 'Client_Device', 'Time_of_activity', 'Requested_Page']).count()\n",
        "sess_df.head()"
      ],
      "execution_count": 10,
      "outputs": [
        {
          "output_type": "execute_result",
          "data": {
            "text/html": [
              "<div>\n",
              "<style scoped>\n",
              "    .dataframe tbody tr th:only-of-type {\n",
              "        vertical-align: middle;\n",
              "    }\n",
              "\n",
              "    .dataframe tbody tr th {\n",
              "        vertical-align: top;\n",
              "    }\n",
              "\n",
              "    .dataframe thead th {\n",
              "        text-align: right;\n",
              "    }\n",
              "</style>\n",
              "<table border=\"1\" class=\"dataframe\">\n",
              "  <thead>\n",
              "    <tr style=\"text-align: right;\">\n",
              "      <th></th>\n",
              "      <th></th>\n",
              "      <th></th>\n",
              "      <th></th>\n",
              "      <th>Status_Code</th>\n",
              "      <th>Size_of_Page</th>\n",
              "      <th>Referer_page</th>\n",
              "      <th>unique_user</th>\n",
              "    </tr>\n",
              "    <tr>\n",
              "      <th>IP_address</th>\n",
              "      <th>Client_Device</th>\n",
              "      <th>Time_of_activity</th>\n",
              "      <th>Requested_Page</th>\n",
              "      <th></th>\n",
              "      <th></th>\n",
              "      <th></th>\n",
              "      <th></th>\n",
              "    </tr>\n",
              "  </thead>\n",
              "  <tbody>\n",
              "    <tr>\n",
              "      <th rowspan=\"4\" valign=\"top\">1.0.180.160</th>\n",
              "      <th>\"Mozilla/5.0 (Windows NT 6.2) AppleWebKit/537.36 (KHTML, like Gecko) Chrome/39.0.2171.99 Safari/537.36\"</th>\n",
              "      <th>[11/Feb/2016:08:37:15 +0100]</th>\n",
              "      <th>\"GET /apache-log/access.log HTTP/1.1\"</th>\n",
              "      <td>1</td>\n",
              "      <td>1</td>\n",
              "      <td>1</td>\n",
              "      <td>1</td>\n",
              "    </tr>\n",
              "    <tr>\n",
              "      <th rowspan=\"3\" valign=\"top\">\"Opera/9.80 (Windows NT 6.2; Win64; x64) Presto/2.12.388 Version/12.17\"</th>\n",
              "      <th>[11/Feb/2016:08:37:16 +0100]</th>\n",
              "      <th>\"GET /wp-login.php HTTP/1.1\"</th>\n",
              "      <td>2</td>\n",
              "      <td>2</td>\n",
              "      <td>2</td>\n",
              "      <td>2</td>\n",
              "    </tr>\n",
              "    <tr>\n",
              "      <th>[11/Feb/2016:08:37:25 +0100]</th>\n",
              "      <th>\"GET /apache-log/access.log HTTP/1.1\"</th>\n",
              "      <td>1</td>\n",
              "      <td>1</td>\n",
              "      <td>1</td>\n",
              "      <td>1</td>\n",
              "    </tr>\n",
              "    <tr>\n",
              "      <th>[11/Feb/2016:08:37:29 +0100]</th>\n",
              "      <th>\"GET /index.php?option=com_easyblog&amp;view=dashboard&amp;layout=write HTTP/1.1\"</th>\n",
              "      <td>1</td>\n",
              "      <td>1</td>\n",
              "      <td>1</td>\n",
              "      <td>1</td>\n",
              "    </tr>\n",
              "    <tr>\n",
              "      <th>1.0.180.237</th>\n",
              "      <th>\"Mozilla/5.0 (Windows NT 6.1; rv:35.0) Gecko/20100101 Firefox/35.0\"</th>\n",
              "      <th>[25/Jan/2016:04:55:01 +0100]</th>\n",
              "      <th>\"GET /apache-log/access.log HTTP/1.1\"</th>\n",
              "      <td>1</td>\n",
              "      <td>1</td>\n",
              "      <td>1</td>\n",
              "      <td>1</td>\n",
              "    </tr>\n",
              "  </tbody>\n",
              "</table>\n",
              "</div>"
            ],
            "text/plain": [
              "                                                                                                                                                Status_Code  ...  unique_user\n",
              "IP_address  Client_Device                                      Time_of_activity             Requested_Page                                                   ...             \n",
              "1.0.180.160 \"Mozilla/5.0 (Windows NT 6.2) AppleWebKit/537.3... [11/Feb/2016:08:37:15 +0100] \"GET /apache-log/access.log HTTP/1.1\"                         1  ...            1\n",
              "            \"Opera/9.80 (Windows NT 6.2; Win64; x64) Presto... [11/Feb/2016:08:37:16 +0100] \"GET /wp-login.php HTTP/1.1\"                                  2  ...            2\n",
              "                                                               [11/Feb/2016:08:37:25 +0100] \"GET /apache-log/access.log HTTP/1.1\"                         1  ...            1\n",
              "                                                               [11/Feb/2016:08:37:29 +0100] \"GET /index.php?option=com_easyblog&view=dashbo...            1  ...            1\n",
              "1.0.180.237 \"Mozilla/5.0 (Windows NT 6.1; rv:35.0) Gecko/20... [25/Jan/2016:04:55:01 +0100] \"GET /apache-log/access.log HTTP/1.1\"                         1  ...            1\n",
              "\n",
              "[5 rows x 4 columns]"
            ]
          },
          "metadata": {
            "tags": []
          },
          "execution_count": 10
        }
      ]
    },
    {
      "cell_type": "code",
      "metadata": {
        "colab": {
          "base_uri": "https://localhost:8080/",
          "height": 320
        },
        "id": "EpyiovSDrvMO",
        "outputId": "3645da4a-99f8-4b6a-c41c-18131994fb8f"
      },
      "source": [
        "# Removing unnecessary columns\n",
        "sess_df = sess_df.drop(['Status_Code', 'Size_of_Page', 'Referer_page', 'unique_user'], axis=1)\n",
        "sess_df.head()"
      ],
      "execution_count": 11,
      "outputs": [
        {
          "output_type": "execute_result",
          "data": {
            "text/html": [
              "<div>\n",
              "<style scoped>\n",
              "    .dataframe tbody tr th:only-of-type {\n",
              "        vertical-align: middle;\n",
              "    }\n",
              "\n",
              "    .dataframe tbody tr th {\n",
              "        vertical-align: top;\n",
              "    }\n",
              "\n",
              "    .dataframe thead th {\n",
              "        text-align: right;\n",
              "    }\n",
              "</style>\n",
              "<table border=\"1\" class=\"dataframe\">\n",
              "  <thead>\n",
              "    <tr style=\"text-align: right;\">\n",
              "      <th></th>\n",
              "      <th></th>\n",
              "      <th></th>\n",
              "      <th></th>\n",
              "    </tr>\n",
              "    <tr>\n",
              "      <th>IP_address</th>\n",
              "      <th>Client_Device</th>\n",
              "      <th>Time_of_activity</th>\n",
              "      <th>Requested_Page</th>\n",
              "    </tr>\n",
              "  </thead>\n",
              "  <tbody>\n",
              "    <tr>\n",
              "      <th rowspan=\"4\" valign=\"top\">1.0.180.160</th>\n",
              "      <th>\"Mozilla/5.0 (Windows NT 6.2) AppleWebKit/537.36 (KHTML, like Gecko) Chrome/39.0.2171.99 Safari/537.36\"</th>\n",
              "      <th>[11/Feb/2016:08:37:15 +0100]</th>\n",
              "      <th>\"GET /apache-log/access.log HTTP/1.1\"</th>\n",
              "    </tr>\n",
              "    <tr>\n",
              "      <th rowspan=\"3\" valign=\"top\">\"Opera/9.80 (Windows NT 6.2; Win64; x64) Presto/2.12.388 Version/12.17\"</th>\n",
              "      <th>[11/Feb/2016:08:37:16 +0100]</th>\n",
              "      <th>\"GET /wp-login.php HTTP/1.1\"</th>\n",
              "    </tr>\n",
              "    <tr>\n",
              "      <th>[11/Feb/2016:08:37:25 +0100]</th>\n",
              "      <th>\"GET /apache-log/access.log HTTP/1.1\"</th>\n",
              "    </tr>\n",
              "    <tr>\n",
              "      <th>[11/Feb/2016:08:37:29 +0100]</th>\n",
              "      <th>\"GET /index.php?option=com_easyblog&amp;view=dashboard&amp;layout=write HTTP/1.1\"</th>\n",
              "    </tr>\n",
              "    <tr>\n",
              "      <th>1.0.180.237</th>\n",
              "      <th>\"Mozilla/5.0 (Windows NT 6.1; rv:35.0) Gecko/20100101 Firefox/35.0\"</th>\n",
              "      <th>[25/Jan/2016:04:55:01 +0100]</th>\n",
              "      <th>\"GET /apache-log/access.log HTTP/1.1\"</th>\n",
              "    </tr>\n",
              "  </tbody>\n",
              "</table>\n",
              "</div>"
            ],
            "text/plain": [
              "Empty DataFrame\n",
              "Columns: []\n",
              "Index: [(1.0.180.160, \"Mozilla/5.0 (Windows NT 6.2) AppleWebKit/537.36 (KHTML, like Gecko) Chrome/39.0.2171.99 Safari/537.36\", [11/Feb/2016:08:37:15 +0100], \"GET /apache-log/access.log HTTP/1.1\"), (1.0.180.160, \"Opera/9.80 (Windows NT 6.2; Win64; x64) Presto/2.12.388 Version/12.17\", [11/Feb/2016:08:37:16 +0100], \"GET /wp-login.php HTTP/1.1\"), (1.0.180.160, \"Opera/9.80 (Windows NT 6.2; Win64; x64) Presto/2.12.388 Version/12.17\", [11/Feb/2016:08:37:25 +0100], \"GET /apache-log/access.log HTTP/1.1\"), (1.0.180.160, \"Opera/9.80 (Windows NT 6.2; Win64; x64) Presto/2.12.388 Version/12.17\", [11/Feb/2016:08:37:29 +0100], \"GET /index.php?option=com_easyblog&view=dashboard&layout=write HTTP/1.1\"), (1.0.180.237, \"Mozilla/5.0 (Windows NT 6.1; rv:35.0) Gecko/20100101 Firefox/35.0\", [25/Jan/2016:04:55:01 +0100], \"GET /apache-log/access.log HTTP/1.1\")]"
            ]
          },
          "metadata": {
            "tags": []
          },
          "execution_count": 11
        }
      ]
    },
    {
      "cell_type": "code",
      "metadata": {
        "colab": {
          "base_uri": "https://localhost:8080/",
          "height": 419
        },
        "id": "2rx5oktJto5F",
        "outputId": "e6773983-5777-472e-ef47-7f64d75d0667"
      },
      "source": [
        "# Reset the index\n",
        "sess_df = sess_df.reset_index()\n",
        "sess_df"
      ],
      "execution_count": 12,
      "outputs": [
        {
          "output_type": "execute_result",
          "data": {
            "text/html": [
              "<div>\n",
              "<style scoped>\n",
              "    .dataframe tbody tr th:only-of-type {\n",
              "        vertical-align: middle;\n",
              "    }\n",
              "\n",
              "    .dataframe tbody tr th {\n",
              "        vertical-align: top;\n",
              "    }\n",
              "\n",
              "    .dataframe thead th {\n",
              "        text-align: right;\n",
              "    }\n",
              "</style>\n",
              "<table border=\"1\" class=\"dataframe\">\n",
              "  <thead>\n",
              "    <tr style=\"text-align: right;\">\n",
              "      <th></th>\n",
              "      <th>IP_address</th>\n",
              "      <th>Client_Device</th>\n",
              "      <th>Time_of_activity</th>\n",
              "      <th>Requested_Page</th>\n",
              "    </tr>\n",
              "  </thead>\n",
              "  <tbody>\n",
              "    <tr>\n",
              "      <th>0</th>\n",
              "      <td>1.0.180.160</td>\n",
              "      <td>\"Mozilla/5.0 (Windows NT 6.2) AppleWebKit/537....</td>\n",
              "      <td>[11/Feb/2016:08:37:15 +0100]</td>\n",
              "      <td>\"GET /apache-log/access.log HTTP/1.1\"</td>\n",
              "    </tr>\n",
              "    <tr>\n",
              "      <th>1</th>\n",
              "      <td>1.0.180.160</td>\n",
              "      <td>\"Opera/9.80 (Windows NT 6.2; Win64; x64) Prest...</td>\n",
              "      <td>[11/Feb/2016:08:37:16 +0100]</td>\n",
              "      <td>\"GET /wp-login.php HTTP/1.1\"</td>\n",
              "    </tr>\n",
              "    <tr>\n",
              "      <th>2</th>\n",
              "      <td>1.0.180.160</td>\n",
              "      <td>\"Opera/9.80 (Windows NT 6.2; Win64; x64) Prest...</td>\n",
              "      <td>[11/Feb/2016:08:37:25 +0100]</td>\n",
              "      <td>\"GET /apache-log/access.log HTTP/1.1\"</td>\n",
              "    </tr>\n",
              "    <tr>\n",
              "      <th>3</th>\n",
              "      <td>1.0.180.160</td>\n",
              "      <td>\"Opera/9.80 (Windows NT 6.2; Win64; x64) Prest...</td>\n",
              "      <td>[11/Feb/2016:08:37:29 +0100]</td>\n",
              "      <td>\"GET /index.php?option=com_easyblog&amp;view=dashb...</td>\n",
              "    </tr>\n",
              "    <tr>\n",
              "      <th>4</th>\n",
              "      <td>1.0.180.237</td>\n",
              "      <td>\"Mozilla/5.0 (Windows NT 6.1; rv:35.0) Gecko/2...</td>\n",
              "      <td>[25/Jan/2016:04:55:01 +0100]</td>\n",
              "      <td>\"GET /apache-log/access.log HTTP/1.1\"</td>\n",
              "    </tr>\n",
              "    <tr>\n",
              "      <th>...</th>\n",
              "      <td>...</td>\n",
              "      <td>...</td>\n",
              "      <td>...</td>\n",
              "      <td>...</td>\n",
              "    </tr>\n",
              "    <tr>\n",
              "      <th>71660</th>\n",
              "      <td>98.200.102.180</td>\n",
              "      <td>\"Mozilla/5.0 (Windows NT 6.1; WOW64) AppleWebK...</td>\n",
              "      <td>[21/Dec/2015:05:30:15 +0100]</td>\n",
              "      <td>\"GET /images/stories/slideshow/almhuette_raith...</td>\n",
              "    </tr>\n",
              "    <tr>\n",
              "      <th>71661</th>\n",
              "      <td>98.200.102.180</td>\n",
              "      <td>\"Mozilla/5.0 (Windows NT 6.1; WOW64) AppleWebK...</td>\n",
              "      <td>[21/Dec/2015:05:30:15 +0100]</td>\n",
              "      <td>\"GET /images/stories/slideshow/almhuette_raith...</td>\n",
              "    </tr>\n",
              "    <tr>\n",
              "      <th>71662</th>\n",
              "      <td>98.200.102.180</td>\n",
              "      <td>\"Mozilla/5.0 (Windows NT 6.1; WOW64) AppleWebK...</td>\n",
              "      <td>[21/Dec/2015:05:30:15 +0100]</td>\n",
              "      <td>\"GET /images/stories/slideshow/almhuette_raith...</td>\n",
              "    </tr>\n",
              "    <tr>\n",
              "      <th>71663</th>\n",
              "      <td>98.200.102.180</td>\n",
              "      <td>\"Mozilla/5.0 (Windows NT 6.1; WOW64) AppleWebK...</td>\n",
              "      <td>[21/Dec/2015:05:30:15 +0100]</td>\n",
              "      <td>\"GET /images/stories/slideshow/almhuette_raith...</td>\n",
              "    </tr>\n",
              "    <tr>\n",
              "      <th>71664</th>\n",
              "      <td>98.200.102.180</td>\n",
              "      <td>\"Mozilla/5.0 (Windows NT 6.1; WOW64) AppleWebK...</td>\n",
              "      <td>[21/Dec/2015:05:30:16 +0100]</td>\n",
              "      <td>\"GET /images/stories/slideshow/almhuette_raith...</td>\n",
              "    </tr>\n",
              "  </tbody>\n",
              "</table>\n",
              "<p>71665 rows × 4 columns</p>\n",
              "</div>"
            ],
            "text/plain": [
              "           IP_address  ...                                     Requested_Page\n",
              "0         1.0.180.160  ...              \"GET /apache-log/access.log HTTP/1.1\"\n",
              "1         1.0.180.160  ...                       \"GET /wp-login.php HTTP/1.1\"\n",
              "2         1.0.180.160  ...              \"GET /apache-log/access.log HTTP/1.1\"\n",
              "3         1.0.180.160  ...  \"GET /index.php?option=com_easyblog&view=dashb...\n",
              "4         1.0.180.237  ...              \"GET /apache-log/access.log HTTP/1.1\"\n",
              "...               ...  ...                                                ...\n",
              "71660  98.200.102.180  ...  \"GET /images/stories/slideshow/almhuette_raith...\n",
              "71661  98.200.102.180  ...  \"GET /images/stories/slideshow/almhuette_raith...\n",
              "71662  98.200.102.180  ...  \"GET /images/stories/slideshow/almhuette_raith...\n",
              "71663  98.200.102.180  ...  \"GET /images/stories/slideshow/almhuette_raith...\n",
              "71664  98.200.102.180  ...  \"GET /images/stories/slideshow/almhuette_raith...\n",
              "\n",
              "[71665 rows x 4 columns]"
            ]
          },
          "metadata": {
            "tags": []
          },
          "execution_count": 12
        }
      ]
    },
    {
      "cell_type": "code",
      "metadata": {
        "id": "ZuhBLcwSJycX"
      },
      "source": [
        "# Merging the Ip address and client device information to identify a unique user\n",
        "IP = set(df['IP_address'])\n",
        "devices=set(df['Client_Device'])\n",
        "D={}\n",
        "for i,row in df.iterrows():\n",
        "    if(tuple((row['IP_address'],row['Client_Device'])) in D):\n",
        "        D[tuple((row['IP_address'],row['Client_Device']))]+=1\n",
        "    \n",
        "    else:\n",
        "        D[tuple((row['IP_address'],row['Client_Device']))]=1"
      ],
      "execution_count": 13,
      "outputs": []
    },
    {
      "cell_type": "code",
      "metadata": {
        "id": "n57bNvLovC86"
      },
      "source": [
        "# Extracting the user, time, and page information to identify sessions\n",
        "time=[]\n",
        "page=[]\n",
        "al=[]\n",
        "for i in list(D)[:10]:\n",
        "    for j,row in df.iterrows():\n",
        "        if(i==tuple((row['IP_address'],row['Client_Device']))):\n",
        "            time.append(row['Time_of_activity'])\n",
        "            page.append(row['Requested_Page'])\n",
        "            al.append(i)\n"
      ],
      "execution_count": 14,
      "outputs": []
    },
    {
      "cell_type": "code",
      "metadata": {
        "colab": {
          "base_uri": "https://localhost:8080/",
          "height": 669
        },
        "id": "ZHC7gVpvLGDw",
        "outputId": "eca449b9-22bd-4d70-c53a-64ee9090b305"
      },
      "source": [
        "# Saving the sessions and page views to the dataframe\n",
        "session_df=pd.DataFrame({'Time':time,'Requested_Pages':page,'User':al})\n",
        "session_df.head(20)"
      ],
      "execution_count": 15,
      "outputs": [
        {
          "output_type": "execute_result",
          "data": {
            "text/html": [
              "<div>\n",
              "<style scoped>\n",
              "    .dataframe tbody tr th:only-of-type {\n",
              "        vertical-align: middle;\n",
              "    }\n",
              "\n",
              "    .dataframe tbody tr th {\n",
              "        vertical-align: top;\n",
              "    }\n",
              "\n",
              "    .dataframe thead th {\n",
              "        text-align: right;\n",
              "    }\n",
              "</style>\n",
              "<table border=\"1\" class=\"dataframe\">\n",
              "  <thead>\n",
              "    <tr style=\"text-align: right;\">\n",
              "      <th></th>\n",
              "      <th>Time</th>\n",
              "      <th>Requested_Pages</th>\n",
              "      <th>User</th>\n",
              "    </tr>\n",
              "  </thead>\n",
              "  <tbody>\n",
              "    <tr>\n",
              "      <th>0</th>\n",
              "      <td>[12/Dec/2015:18:25:11 +0100]</td>\n",
              "      <td>\"GET /administrator/ HTTP/1.1\"</td>\n",
              "      <td>(109.169.248.247, \"Mozilla/5.0 (Windows NT 6.0...</td>\n",
              "    </tr>\n",
              "    <tr>\n",
              "      <th>1</th>\n",
              "      <td>[12/Dec/2015:18:25:11 +0100]</td>\n",
              "      <td>\"POST /administrator/index.php HTTP/1.1\"</td>\n",
              "      <td>(109.169.248.247, \"Mozilla/5.0 (Windows NT 6.0...</td>\n",
              "    </tr>\n",
              "    <tr>\n",
              "      <th>2</th>\n",
              "      <td>[13/Dec/2015:12:10:05 +0100]</td>\n",
              "      <td>\"GET /administrator/ HTTP/1.1\"</td>\n",
              "      <td>(109.169.248.247, \"Mozilla/5.0 (Windows NT 6.0...</td>\n",
              "    </tr>\n",
              "    <tr>\n",
              "      <th>3</th>\n",
              "      <td>[13/Dec/2015:12:10:05 +0100]</td>\n",
              "      <td>\"POST /administrator/index.php HTTP/1.1\"</td>\n",
              "      <td>(109.169.248.247, \"Mozilla/5.0 (Windows NT 6.0...</td>\n",
              "    </tr>\n",
              "    <tr>\n",
              "      <th>4</th>\n",
              "      <td>[13/Dec/2015:12:43:46 +0100]</td>\n",
              "      <td>\"GET /administrator/ HTTP/1.1\"</td>\n",
              "      <td>(109.169.248.247, \"Mozilla/5.0 (Windows NT 6.0...</td>\n",
              "    </tr>\n",
              "    <tr>\n",
              "      <th>5</th>\n",
              "      <td>[13/Dec/2015:12:43:46 +0100]</td>\n",
              "      <td>\"POST /administrator/index.php HTTP/1.1\"</td>\n",
              "      <td>(109.169.248.247, \"Mozilla/5.0 (Windows NT 6.0...</td>\n",
              "    </tr>\n",
              "    <tr>\n",
              "      <th>6</th>\n",
              "      <td>[12/Dec/2015:18:31:08 +0100]</td>\n",
              "      <td>\"GET /administrator/ HTTP/1.1\"</td>\n",
              "      <td>(46.72.177.4, \"Mozilla/5.0 (Windows NT 6.0; rv...</td>\n",
              "    </tr>\n",
              "    <tr>\n",
              "      <th>7</th>\n",
              "      <td>[12/Dec/2015:18:31:08 +0100]</td>\n",
              "      <td>\"POST /administrator/index.php HTTP/1.1\"</td>\n",
              "      <td>(46.72.177.4, \"Mozilla/5.0 (Windows NT 6.0; rv...</td>\n",
              "    </tr>\n",
              "    <tr>\n",
              "      <th>8</th>\n",
              "      <td>[14/Dec/2015:16:39:27 +0100]</td>\n",
              "      <td>\"GET /administrator/ HTTP/1.1\"</td>\n",
              "      <td>(46.72.177.4, \"Mozilla/5.0 (Windows NT 6.0; rv...</td>\n",
              "    </tr>\n",
              "    <tr>\n",
              "      <th>9</th>\n",
              "      <td>[14/Dec/2015:16:39:28 +0100]</td>\n",
              "      <td>\"POST /administrator/index.php HTTP/1.1\"</td>\n",
              "      <td>(46.72.177.4, \"Mozilla/5.0 (Windows NT 6.0; rv...</td>\n",
              "    </tr>\n",
              "    <tr>\n",
              "      <th>10</th>\n",
              "      <td>[15/Dec/2015:18:16:52 +0100]</td>\n",
              "      <td>\"GET /administrator/ HTTP/1.1\"</td>\n",
              "      <td>(46.72.177.4, \"Mozilla/5.0 (Windows NT 6.0; rv...</td>\n",
              "    </tr>\n",
              "    <tr>\n",
              "      <th>11</th>\n",
              "      <td>[15/Dec/2015:18:16:52 +0100]</td>\n",
              "      <td>\"POST /administrator/index.php HTTP/1.1\"</td>\n",
              "      <td>(46.72.177.4, \"Mozilla/5.0 (Windows NT 6.0; rv...</td>\n",
              "    </tr>\n",
              "    <tr>\n",
              "      <th>12</th>\n",
              "      <td>[17/Dec/2015:19:43:47 +0100]</td>\n",
              "      <td>\"GET /administrator/ HTTP/1.1\"</td>\n",
              "      <td>(46.72.177.4, \"Mozilla/5.0 (Windows NT 6.0; rv...</td>\n",
              "    </tr>\n",
              "    <tr>\n",
              "      <th>13</th>\n",
              "      <td>[17/Dec/2015:19:43:47 +0100]</td>\n",
              "      <td>\"POST /administrator/index.php HTTP/1.1\"</td>\n",
              "      <td>(46.72.177.4, \"Mozilla/5.0 (Windows NT 6.0; rv...</td>\n",
              "    </tr>\n",
              "    <tr>\n",
              "      <th>14</th>\n",
              "      <td>[12/Dec/2015:18:31:25 +0100]</td>\n",
              "      <td>\"GET /administrator/ HTTP/1.1\"</td>\n",
              "      <td>(83.167.113.100, \"Mozilla/5.0 (Windows NT 6.0;...</td>\n",
              "    </tr>\n",
              "    <tr>\n",
              "      <th>15</th>\n",
              "      <td>[12/Dec/2015:18:31:25 +0100]</td>\n",
              "      <td>\"POST /administrator/index.php HTTP/1.1\"</td>\n",
              "      <td>(83.167.113.100, \"Mozilla/5.0 (Windows NT 6.0;...</td>\n",
              "    </tr>\n",
              "    <tr>\n",
              "      <th>16</th>\n",
              "      <td>[12/Dec/2015:19:37:49 +0100]</td>\n",
              "      <td>\"GET /administrator/ HTTP/1.1\"</td>\n",
              "      <td>(83.167.113.100, \"Mozilla/5.0 (Windows NT 6.0;...</td>\n",
              "    </tr>\n",
              "    <tr>\n",
              "      <th>17</th>\n",
              "      <td>[12/Dec/2015:19:37:50 +0100]</td>\n",
              "      <td>\"POST /administrator/index.php HTTP/1.1\"</td>\n",
              "      <td>(83.167.113.100, \"Mozilla/5.0 (Windows NT 6.0;...</td>\n",
              "    </tr>\n",
              "    <tr>\n",
              "      <th>18</th>\n",
              "      <td>[12/Dec/2015:20:42:54 +0100]</td>\n",
              "      <td>\"GET /administrator/ HTTP/1.1\"</td>\n",
              "      <td>(83.167.113.100, \"Mozilla/5.0 (Windows NT 6.0;...</td>\n",
              "    </tr>\n",
              "    <tr>\n",
              "      <th>19</th>\n",
              "      <td>[12/Dec/2015:20:42:54 +0100]</td>\n",
              "      <td>\"POST /administrator/index.php HTTP/1.1\"</td>\n",
              "      <td>(83.167.113.100, \"Mozilla/5.0 (Windows NT 6.0;...</td>\n",
              "    </tr>\n",
              "  </tbody>\n",
              "</table>\n",
              "</div>"
            ],
            "text/plain": [
              "                            Time  ...                                               User\n",
              "0   [12/Dec/2015:18:25:11 +0100]  ...  (109.169.248.247, \"Mozilla/5.0 (Windows NT 6.0...\n",
              "1   [12/Dec/2015:18:25:11 +0100]  ...  (109.169.248.247, \"Mozilla/5.0 (Windows NT 6.0...\n",
              "2   [13/Dec/2015:12:10:05 +0100]  ...  (109.169.248.247, \"Mozilla/5.0 (Windows NT 6.0...\n",
              "3   [13/Dec/2015:12:10:05 +0100]  ...  (109.169.248.247, \"Mozilla/5.0 (Windows NT 6.0...\n",
              "4   [13/Dec/2015:12:43:46 +0100]  ...  (109.169.248.247, \"Mozilla/5.0 (Windows NT 6.0...\n",
              "5   [13/Dec/2015:12:43:46 +0100]  ...  (109.169.248.247, \"Mozilla/5.0 (Windows NT 6.0...\n",
              "6   [12/Dec/2015:18:31:08 +0100]  ...  (46.72.177.4, \"Mozilla/5.0 (Windows NT 6.0; rv...\n",
              "7   [12/Dec/2015:18:31:08 +0100]  ...  (46.72.177.4, \"Mozilla/5.0 (Windows NT 6.0; rv...\n",
              "8   [14/Dec/2015:16:39:27 +0100]  ...  (46.72.177.4, \"Mozilla/5.0 (Windows NT 6.0; rv...\n",
              "9   [14/Dec/2015:16:39:28 +0100]  ...  (46.72.177.4, \"Mozilla/5.0 (Windows NT 6.0; rv...\n",
              "10  [15/Dec/2015:18:16:52 +0100]  ...  (46.72.177.4, \"Mozilla/5.0 (Windows NT 6.0; rv...\n",
              "11  [15/Dec/2015:18:16:52 +0100]  ...  (46.72.177.4, \"Mozilla/5.0 (Windows NT 6.0; rv...\n",
              "12  [17/Dec/2015:19:43:47 +0100]  ...  (46.72.177.4, \"Mozilla/5.0 (Windows NT 6.0; rv...\n",
              "13  [17/Dec/2015:19:43:47 +0100]  ...  (46.72.177.4, \"Mozilla/5.0 (Windows NT 6.0; rv...\n",
              "14  [12/Dec/2015:18:31:25 +0100]  ...  (83.167.113.100, \"Mozilla/5.0 (Windows NT 6.0;...\n",
              "15  [12/Dec/2015:18:31:25 +0100]  ...  (83.167.113.100, \"Mozilla/5.0 (Windows NT 6.0;...\n",
              "16  [12/Dec/2015:19:37:49 +0100]  ...  (83.167.113.100, \"Mozilla/5.0 (Windows NT 6.0;...\n",
              "17  [12/Dec/2015:19:37:50 +0100]  ...  (83.167.113.100, \"Mozilla/5.0 (Windows NT 6.0;...\n",
              "18  [12/Dec/2015:20:42:54 +0100]  ...  (83.167.113.100, \"Mozilla/5.0 (Windows NT 6.0;...\n",
              "19  [12/Dec/2015:20:42:54 +0100]  ...  (83.167.113.100, \"Mozilla/5.0 (Windows NT 6.0;...\n",
              "\n",
              "[20 rows x 3 columns]"
            ]
          },
          "metadata": {
            "tags": []
          },
          "execution_count": 15
        }
      ]
    },
    {
      "cell_type": "code",
      "metadata": {
        "colab": {
          "base_uri": "https://localhost:8080/"
        },
        "id": "E9ftmCq_12vt",
        "outputId": "e5729436-7219-40c6-ff20-6a4217770c3b"
      },
      "source": [
        "len(session_df['Requested_Pages'].unique())"
      ],
      "execution_count": 16,
      "outputs": [
        {
          "output_type": "execute_result",
          "data": {
            "text/plain": [
              "2"
            ]
          },
          "metadata": {
            "tags": []
          },
          "execution_count": 16
        }
      ]
    },
    {
      "cell_type": "markdown",
      "metadata": {
        "id": "TWlB5Qe590ZR"
      },
      "source": [
        "## **Question 3: Show five frequent pages which the users visit before visiting this particular web site**"
      ]
    },
    {
      "cell_type": "code",
      "metadata": {
        "id": "5omaryLcLtXY"
      },
      "source": [
        "\n",
        "requested = df['Requested_Page']\n",
        "from urllib.parse import urlparse\n",
        "ref=[]\n",
        "for i in requested:       \n",
        "    parsed_uri = urlparse(i.replace('\"', ''))\n",
        "    result = '{uri.scheme}://{uri.netloc}/'.format(uri=parsed_uri)\n",
        "    ref.append(result)\n",
        "word_counter = {}\n",
        "for url in ref:\n",
        "    if url in word_counter:\n",
        "        word_counter[url] += 1\n",
        "    else:\n",
        "        word_counter[url] = 1\n",
        "popular_words = sorted(word_counter, key = word_counter.get, reverse = True)\n",
        "top_5 = popular_words[:6]\n",
        "for i in top_5:\n",
        "    if(i==':///'''):\n",
        "        top_5.remove(i)\n",
        "for i,j in enumerate(top_5,start=1):\n",
        "    print(i,\"\",j)"
      ],
      "execution_count": 17,
      "outputs": []
    },
    {
      "cell_type": "code",
      "metadata": {
        "colab": {
          "base_uri": "https://localhost:8080/"
        },
        "id": "OoX_JxomLtx0",
        "outputId": "17f282fe-c0d8-43ec-fd29-cfebfcb262b1"
      },
      "source": [
        "Pages_visited_per_session=list(session_df['Requested_Pages'])\n",
        "Pages_accessed={}\n",
        "for i,row in session_df.iterrows():\n",
        "    if(row['User'] in Pages_accessed):\n",
        "        Pages_accessed[row['User']].append(row['Requested_Pages'])    \n",
        "    else:\n",
        "        Pages_accessed[row['User']]=[row['Requested_Pages']]\n",
        "for i in Pages_accessed:\n",
        "    print('\\n Client {} accessed these pages \\n {} \\n'.format(i,Pages_accessed[i]))\n",
        "all_pages=[]\n",
        "for i in Pages_accessed:\n",
        "    all_pages.append(Pages_accessed[i])"
      ],
      "execution_count": 18,
      "outputs": [
        {
          "output_type": "stream",
          "text": [
            "\n",
            " Client ('109.169.248.247', '\"Mozilla/5.0 (Windows NT 6.0; rv:34.0) Gecko/20100101 Firefox/34.0\"') accessed these pages \n",
            " ['\"GET /administrator/ HTTP/1.1\"', '\"POST /administrator/index.php HTTP/1.1\"', '\"GET /administrator/ HTTP/1.1\"', '\"POST /administrator/index.php HTTP/1.1\"', '\"GET /administrator/ HTTP/1.1\"', '\"POST /administrator/index.php HTTP/1.1\"'] \n",
            "\n",
            "\n",
            " Client ('46.72.177.4', '\"Mozilla/5.0 (Windows NT 6.0; rv:34.0) Gecko/20100101 Firefox/34.0\"') accessed these pages \n",
            " ['\"GET /administrator/ HTTP/1.1\"', '\"POST /administrator/index.php HTTP/1.1\"', '\"GET /administrator/ HTTP/1.1\"', '\"POST /administrator/index.php HTTP/1.1\"', '\"GET /administrator/ HTTP/1.1\"', '\"POST /administrator/index.php HTTP/1.1\"', '\"GET /administrator/ HTTP/1.1\"', '\"POST /administrator/index.php HTTP/1.1\"'] \n",
            "\n",
            "\n",
            " Client ('83.167.113.100', '\"Mozilla/5.0 (Windows NT 6.0; rv:34.0) Gecko/20100101 Firefox/34.0\"') accessed these pages \n",
            " ['\"GET /administrator/ HTTP/1.1\"', '\"POST /administrator/index.php HTTP/1.1\"', '\"GET /administrator/ HTTP/1.1\"', '\"POST /administrator/index.php HTTP/1.1\"', '\"GET /administrator/ HTTP/1.1\"', '\"POST /administrator/index.php HTTP/1.1\"', '\"GET /administrator/ HTTP/1.1\"', '\"POST /administrator/index.php HTTP/1.1\"', '\"GET /administrator/ HTTP/1.1\"', '\"POST /administrator/index.php HTTP/1.1\"', '\"GET /administrator/ HTTP/1.1\"', '\"GET /administrator/ HTTP/1.1\"', '\"POST /administrator/index.php HTTP/1.1\"', '\"GET /administrator/ HTTP/1.1\"', '\"POST /administrator/index.php HTTP/1.1\"', '\"GET /administrator/ HTTP/1.1\"', '\"POST /administrator/index.php HTTP/1.1\"', '\"GET /administrator/ HTTP/1.1\"', '\"POST /administrator/index.php HTTP/1.1\"', '\"GET /administrator/ HTTP/1.1\"', '\"POST /administrator/index.php HTTP/1.1\"', '\"GET /administrator/ HTTP/1.1\"', '\"POST /administrator/index.php HTTP/1.1\"', '\"GET /administrator/ HTTP/1.1\"', '\"POST /administrator/index.php HTTP/1.1\"', '\"GET /administrator/ HTTP/1.1\"', '\"POST /administrator/index.php HTTP/1.1\"', '\"GET /administrator/ HTTP/1.1\"', '\"POST /administrator/index.php HTTP/1.1\"', '\"GET /administrator/ HTTP/1.1\"', '\"POST /administrator/index.php HTTP/1.1\"', '\"GET /administrator/ HTTP/1.1\"', '\"POST /administrator/index.php HTTP/1.1\"', '\"GET /administrator/ HTTP/1.1\"', '\"POST /administrator/index.php HTTP/1.1\"', '\"GET /administrator/ HTTP/1.1\"', '\"POST /administrator/index.php HTTP/1.1\"', '\"GET /administrator/ HTTP/1.1\"', '\"POST /administrator/index.php HTTP/1.1\"', '\"GET /administrator/ HTTP/1.1\"', '\"POST /administrator/index.php HTTP/1.1\"', '\"GET /administrator/ HTTP/1.1\"', '\"POST /administrator/index.php HTTP/1.1\"', '\"GET /administrator/ HTTP/1.1\"', '\"POST /administrator/index.php HTTP/1.1\"', '\"GET /administrator/ HTTP/1.1\"', '\"POST /administrator/index.php HTTP/1.1\"'] \n",
            "\n",
            "\n",
            " Client ('95.29.198.15', '\"Mozilla/5.0 (Windows NT 6.0; rv:34.0) Gecko/20100101 Firefox/34.0\"') accessed these pages \n",
            " ['\"GET /administrator/ HTTP/1.1\"', '\"POST /administrator/index.php HTTP/1.1\"'] \n",
            "\n",
            "\n",
            " Client ('109.184.11.34', '\"Mozilla/5.0 (Windows NT 6.0; rv:34.0) Gecko/20100101 Firefox/34.0\"') accessed these pages \n",
            " ['\"GET /administrator/ HTTP/1.1\"', '\"POST /administrator/index.php HTTP/1.1\"', '\"GET /administrator/ HTTP/1.1\"', '\"POST /administrator/index.php HTTP/1.1\"', '\"GET /administrator/ HTTP/1.1\"', '\"POST /administrator/index.php HTTP/1.1\"', '\"GET /administrator/ HTTP/1.1\"', '\"POST /administrator/index.php HTTP/1.1\"', '\"GET /administrator/ HTTP/1.1\"', '\"POST /administrator/index.php HTTP/1.1\"'] \n",
            "\n",
            "\n",
            " Client ('91.227.29.79', '\"Mozilla/5.0 (Windows NT 6.0; rv:34.0) Gecko/20100101 Firefox/34.0\"') accessed these pages \n",
            " ['\"GET /administrator/ HTTP/1.1\"', '\"POST /administrator/index.php HTTP/1.1\"', '\"GET /administrator/ HTTP/1.1\"', '\"POST /administrator/index.php HTTP/1.1\"', '\"GET /administrator/ HTTP/1.1\"', '\"POST /administrator/index.php HTTP/1.1\"', '\"GET /administrator/ HTTP/1.1\"', '\"POST /administrator/index.php HTTP/1.1\"', '\"GET /administrator/ HTTP/1.1\"', '\"POST /administrator/index.php HTTP/1.1\"', '\"GET /administrator/ HTTP/1.1\"', '\"POST /administrator/index.php HTTP/1.1\"', '\"GET /administrator/ HTTP/1.1\"', '\"POST /administrator/index.php HTTP/1.1\"', '\"GET /administrator/ HTTP/1.1\"', '\"POST /administrator/index.php HTTP/1.1\"', '\"GET /administrator/ HTTP/1.1\"', '\"POST /administrator/index.php HTTP/1.1\"'] \n",
            "\n",
            "\n",
            " Client ('90.154.66.233', '\"Mozilla/5.0 (Windows NT 6.0; rv:34.0) Gecko/20100101 Firefox/34.0\"') accessed these pages \n",
            " ['\"GET /administrator/ HTTP/1.1\"', '\"POST /administrator/index.php HTTP/1.1\"', '\"GET /administrator/ HTTP/1.1\"', '\"POST /administrator/index.php HTTP/1.1\"', '\"GET /administrator/ HTTP/1.1\"', '\"POST /administrator/index.php HTTP/1.1\"', '\"GET /administrator/ HTTP/1.1\"', '\"POST /administrator/index.php HTTP/1.1\"'] \n",
            "\n",
            "\n",
            " Client ('95.140.24.131', '\"Mozilla/5.0 (Windows NT 6.0; rv:34.0) Gecko/20100101 Firefox/34.0\"') accessed these pages \n",
            " ['\"GET /administrator/ HTTP/1.1\"', '\"POST /administrator/index.php HTTP/1.1\"', '\"GET /administrator/ HTTP/1.1\"', '\"POST /administrator/index.php HTTP/1.1\"', '\"GET /administrator/ HTTP/1.1\"', '\"POST /administrator/index.php HTTP/1.1\"', '\"GET /administrator/ HTTP/1.1\"', '\"POST /administrator/index.php HTTP/1.1\"', '\"GET /administrator/ HTTP/1.1\"', '\"POST /administrator/index.php HTTP/1.1\"', '\"GET /administrator/ HTTP/1.1\"', '\"POST /administrator/index.php HTTP/1.1\"', '\"GET /administrator/ HTTP/1.1\"', '\"POST /administrator/index.php HTTP/1.1\"'] \n",
            "\n",
            "\n",
            " Client ('95.188.245.16', '\"Mozilla/5.0 (Windows NT 6.0; rv:34.0) Gecko/20100101 Firefox/34.0\"') accessed these pages \n",
            " ['\"GET /administrator/ HTTP/1.1\"', '\"POST /administrator/index.php HTTP/1.1\"'] \n",
            "\n",
            "\n",
            " Client ('46.72.213.133', '\"Mozilla/5.0 (Windows NT 6.0; rv:34.0) Gecko/20100101 Firefox/34.0\"') accessed these pages \n",
            " ['\"GET /administrator/ HTTP/1.1\"', '\"POST /administrator/index.php HTTP/1.1\"'] \n",
            "\n"
          ],
          "name": "stdout"
        }
      ]
    },
    {
      "cell_type": "code",
      "metadata": {
        "colab": {
          "base_uri": "https://localhost:8080/"
        },
        "id": "SuKy7pcuLt3E",
        "outputId": "554d37ab-c5fb-47e9-9407-995a176aceb7"
      },
      "source": [
        "# Fiva pages accessed before visiting the particular page\n",
        "all_pages[7] # These were accessed by client ('95.140.24.131', '\"Mozilla/5.0 (Windows NT 6.0; rv:34.0) Gecko/20100101 Firefox/34.0\"')"
      ],
      "execution_count": 19,
      "outputs": [
        {
          "output_type": "execute_result",
          "data": {
            "text/plain": [
              "['\"GET /administrator/ HTTP/1.1\"',\n",
              " '\"POST /administrator/index.php HTTP/1.1\"',\n",
              " '\"GET /administrator/ HTTP/1.1\"',\n",
              " '\"POST /administrator/index.php HTTP/1.1\"',\n",
              " '\"GET /administrator/ HTTP/1.1\"',\n",
              " '\"POST /administrator/index.php HTTP/1.1\"',\n",
              " '\"GET /administrator/ HTTP/1.1\"',\n",
              " '\"POST /administrator/index.php HTTP/1.1\"',\n",
              " '\"GET /administrator/ HTTP/1.1\"',\n",
              " '\"POST /administrator/index.php HTTP/1.1\"',\n",
              " '\"GET /administrator/ HTTP/1.1\"',\n",
              " '\"POST /administrator/index.php HTTP/1.1\"',\n",
              " '\"GET /administrator/ HTTP/1.1\"',\n",
              " '\"POST /administrator/index.php HTTP/1.1\"']"
            ]
          },
          "metadata": {
            "tags": []
          },
          "execution_count": 19
        }
      ]
    },
    {
      "cell_type": "markdown",
      "metadata": {
        "id": "m7i5iX3rSRh9"
      },
      "source": [
        "**Question 4: Finding at least 10 sequential patterns**"
      ]
    },
    {
      "cell_type": "code",
      "metadata": {
        "colab": {
          "base_uri": "https://localhost:8080/"
        },
        "id": "sk-bOydpyEmF",
        "outputId": "10da2175-c070-4df9-aafd-94dfa5bcaf0f"
      },
      "source": [
        "!pip install apyori\n",
        "!pip install apriori"
      ],
      "execution_count": 20,
      "outputs": [
        {
          "output_type": "stream",
          "text": [
            "Collecting apyori\n",
            "  Downloading https://files.pythonhosted.org/packages/5e/62/5ffde5c473ea4b033490617ec5caa80d59804875ad3c3c57c0976533a21a/apyori-1.1.2.tar.gz\n",
            "Building wheels for collected packages: apyori\n",
            "  Building wheel for apyori (setup.py) ... \u001b[?25l\u001b[?25hdone\n",
            "  Created wheel for apyori: filename=apyori-1.1.2-cp37-none-any.whl size=5975 sha256=540e9e199d3c4bd0c496afbcea5114607fd477947470eff138336d051f80dfe2\n",
            "  Stored in directory: /root/.cache/pip/wheels/5d/92/bb/474bbadbc8c0062b9eb168f69982a0443263f8ab1711a8cad0\n",
            "Successfully built apyori\n",
            "Installing collected packages: apyori\n",
            "Successfully installed apyori-1.1.2\n",
            "Collecting apriori\n",
            "  Downloading https://files.pythonhosted.org/packages/b2/74/725e1e087c29887e51e12f3a1d39d877fff47a8832019d91c3829355766e/apriori-1.0.0.tar.gz\n",
            "Building wheels for collected packages: apriori\n",
            "  Building wheel for apriori (setup.py) ... \u001b[?25l\u001b[?25hdone\n",
            "  Created wheel for apriori: filename=apriori-1.0.0-cp37-none-any.whl size=2478 sha256=05c45cad06399858fb3cf514c6b8b5e2f84ac3c3ee11710e1054ceea22c3ddc2\n",
            "  Stored in directory: /root/.cache/pip/wheels/20/c3/82/6e5f443b9a41b1e9ad991017fb64814bc75b4654409a073ea3\n",
            "Successfully built apriori\n",
            "Installing collected packages: apriori\n",
            "Successfully installed apriori-1.0.0\n"
          ],
          "name": "stdout"
        }
      ]
    },
    {
      "cell_type": "code",
      "metadata": {
        "colab": {
          "resources": {
            "http://localhost:8080/nbextensions/google.colab/files.js": {
              "data": "Ly8gQ29weXJpZ2h0IDIwMTcgR29vZ2xlIExMQwovLwovLyBMaWNlbnNlZCB1bmRlciB0aGUgQXBhY2hlIExpY2Vuc2UsIFZlcnNpb24gMi4wICh0aGUgIkxpY2Vuc2UiKTsKLy8geW91IG1heSBub3QgdXNlIHRoaXMgZmlsZSBleGNlcHQgaW4gY29tcGxpYW5jZSB3aXRoIHRoZSBMaWNlbnNlLgovLyBZb3UgbWF5IG9idGFpbiBhIGNvcHkgb2YgdGhlIExpY2Vuc2UgYXQKLy8KLy8gICAgICBodHRwOi8vd3d3LmFwYWNoZS5vcmcvbGljZW5zZXMvTElDRU5TRS0yLjAKLy8KLy8gVW5sZXNzIHJlcXVpcmVkIGJ5IGFwcGxpY2FibGUgbGF3IG9yIGFncmVlZCB0byBpbiB3cml0aW5nLCBzb2Z0d2FyZQovLyBkaXN0cmlidXRlZCB1bmRlciB0aGUgTGljZW5zZSBpcyBkaXN0cmlidXRlZCBvbiBhbiAiQVMgSVMiIEJBU0lTLAovLyBXSVRIT1VUIFdBUlJBTlRJRVMgT1IgQ09ORElUSU9OUyBPRiBBTlkgS0lORCwgZWl0aGVyIGV4cHJlc3Mgb3IgaW1wbGllZC4KLy8gU2VlIHRoZSBMaWNlbnNlIGZvciB0aGUgc3BlY2lmaWMgbGFuZ3VhZ2UgZ292ZXJuaW5nIHBlcm1pc3Npb25zIGFuZAovLyBsaW1pdGF0aW9ucyB1bmRlciB0aGUgTGljZW5zZS4KCi8qKgogKiBAZmlsZW92ZXJ2aWV3IEhlbHBlcnMgZm9yIGdvb2dsZS5jb2xhYiBQeXRob24gbW9kdWxlLgogKi8KKGZ1bmN0aW9uKHNjb3BlKSB7CmZ1bmN0aW9uIHNwYW4odGV4dCwgc3R5bGVBdHRyaWJ1dGVzID0ge30pIHsKICBjb25zdCBlbGVtZW50ID0gZG9jdW1lbnQuY3JlYXRlRWxlbWVudCgnc3BhbicpOwogIGVsZW1lbnQudGV4dENvbnRlbnQgPSB0ZXh0OwogIGZvciAoY29uc3Qga2V5IG9mIE9iamVjdC5rZXlzKHN0eWxlQXR0cmlidXRlcykpIHsKICAgIGVsZW1lbnQuc3R5bGVba2V5XSA9IHN0eWxlQXR0cmlidXRlc1trZXldOwogIH0KICByZXR1cm4gZWxlbWVudDsKfQoKLy8gTWF4IG51bWJlciBvZiBieXRlcyB3aGljaCB3aWxsIGJlIHVwbG9hZGVkIGF0IGEgdGltZS4KY29uc3QgTUFYX1BBWUxPQURfU0laRSA9IDEwMCAqIDEwMjQ7CgpmdW5jdGlvbiBfdXBsb2FkRmlsZXMoaW5wdXRJZCwgb3V0cHV0SWQpIHsKICBjb25zdCBzdGVwcyA9IHVwbG9hZEZpbGVzU3RlcChpbnB1dElkLCBvdXRwdXRJZCk7CiAgY29uc3Qgb3V0cHV0RWxlbWVudCA9IGRvY3VtZW50LmdldEVsZW1lbnRCeUlkKG91dHB1dElkKTsKICAvLyBDYWNoZSBzdGVwcyBvbiB0aGUgb3V0cHV0RWxlbWVudCB0byBtYWtlIGl0IGF2YWlsYWJsZSBmb3IgdGhlIG5leHQgY2FsbAogIC8vIHRvIHVwbG9hZEZpbGVzQ29udGludWUgZnJvbSBQeXRob24uCiAgb3V0cHV0RWxlbWVudC5zdGVwcyA9IHN0ZXBzOwoKICByZXR1cm4gX3VwbG9hZEZpbGVzQ29udGludWUob3V0cHV0SWQpOwp9CgovLyBUaGlzIGlzIHJvdWdobHkgYW4gYXN5bmMgZ2VuZXJhdG9yIChub3Qgc3VwcG9ydGVkIGluIHRoZSBicm93c2VyIHlldCksCi8vIHdoZXJlIHRoZXJlIGFyZSBtdWx0aXBsZSBhc3luY2hyb25vdXMgc3RlcHMgYW5kIHRoZSBQeXRob24gc2lkZSBpcyBnb2luZwovLyB0byBwb2xsIGZvciBjb21wbGV0aW9uIG9mIGVhY2ggc3RlcC4KLy8gVGhpcyB1c2VzIGEgUHJvbWlzZSB0byBibG9jayB0aGUgcHl0aG9uIHNpZGUgb24gY29tcGxldGlvbiBvZiBlYWNoIHN0ZXAsCi8vIHRoZW4gcGFzc2VzIHRoZSByZXN1bHQgb2YgdGhlIHByZXZpb3VzIHN0ZXAgYXMgdGhlIGlucHV0IHRvIHRoZSBuZXh0IHN0ZXAuCmZ1bmN0aW9uIF91cGxvYWRGaWxlc0NvbnRpbnVlKG91dHB1dElkKSB7CiAgY29uc3Qgb3V0cHV0RWxlbWVudCA9IGRvY3VtZW50LmdldEVsZW1lbnRCeUlkKG91dHB1dElkKTsKICBjb25zdCBzdGVwcyA9IG91dHB1dEVsZW1lbnQuc3RlcHM7CgogIGNvbnN0IG5leHQgPSBzdGVwcy5uZXh0KG91dHB1dEVsZW1lbnQubGFzdFByb21pc2VWYWx1ZSk7CiAgcmV0dXJuIFByb21pc2UucmVzb2x2ZShuZXh0LnZhbHVlLnByb21pc2UpLnRoZW4oKHZhbHVlKSA9PiB7CiAgICAvLyBDYWNoZSB0aGUgbGFzdCBwcm9taXNlIHZhbHVlIHRvIG1ha2UgaXQgYXZhaWxhYmxlIHRvIHRoZSBuZXh0CiAgICAvLyBzdGVwIG9mIHRoZSBnZW5lcmF0b3IuCiAgICBvdXRwdXRFbGVtZW50Lmxhc3RQcm9taXNlVmFsdWUgPSB2YWx1ZTsKICAgIHJldHVybiBuZXh0LnZhbHVlLnJlc3BvbnNlOwogIH0pOwp9CgovKioKICogR2VuZXJhdG9yIGZ1bmN0aW9uIHdoaWNoIGlzIGNhbGxlZCBiZXR3ZWVuIGVhY2ggYXN5bmMgc3RlcCBvZiB0aGUgdXBsb2FkCiAqIHByb2Nlc3MuCiAqIEBwYXJhbSB7c3RyaW5nfSBpbnB1dElkIEVsZW1lbnQgSUQgb2YgdGhlIGlucHV0IGZpbGUgcGlja2VyIGVsZW1lbnQuCiAqIEBwYXJhbSB7c3RyaW5nfSBvdXRwdXRJZCBFbGVtZW50IElEIG9mIHRoZSBvdXRwdXQgZGlzcGxheS4KICogQHJldHVybiB7IUl0ZXJhYmxlPCFPYmplY3Q+fSBJdGVyYWJsZSBvZiBuZXh0IHN0ZXBzLgogKi8KZnVuY3Rpb24qIHVwbG9hZEZpbGVzU3RlcChpbnB1dElkLCBvdXRwdXRJZCkgewogIGNvbnN0IGlucHV0RWxlbWVudCA9IGRvY3VtZW50LmdldEVsZW1lbnRCeUlkKGlucHV0SWQpOwogIGlucHV0RWxlbWVudC5kaXNhYmxlZCA9IGZhbHNlOwoKICBjb25zdCBvdXRwdXRFbGVtZW50ID0gZG9jdW1lbnQuZ2V0RWxlbWVudEJ5SWQob3V0cHV0SWQpOwogIG91dHB1dEVsZW1lbnQuaW5uZXJIVE1MID0gJyc7CgogIGNvbnN0IHBpY2tlZFByb21pc2UgPSBuZXcgUHJvbWlzZSgocmVzb2x2ZSkgPT4gewogICAgaW5wdXRFbGVtZW50LmFkZEV2ZW50TGlzdGVuZXIoJ2NoYW5nZScsIChlKSA9PiB7CiAgICAgIHJlc29sdmUoZS50YXJnZXQuZmlsZXMpOwogICAgfSk7CiAgfSk7CgogIGNvbnN0IGNhbmNlbCA9IGRvY3VtZW50LmNyZWF0ZUVsZW1lbnQoJ2J1dHRvbicpOwogIGlucHV0RWxlbWVudC5wYXJlbnRFbGVtZW50LmFwcGVuZENoaWxkKGNhbmNlbCk7CiAgY2FuY2VsLnRleHRDb250ZW50ID0gJ0NhbmNlbCB1cGxvYWQnOwogIGNvbnN0IGNhbmNlbFByb21pc2UgPSBuZXcgUHJvbWlzZSgocmVzb2x2ZSkgPT4gewogICAgY2FuY2VsLm9uY2xpY2sgPSAoKSA9PiB7CiAgICAgIHJlc29sdmUobnVsbCk7CiAgICB9OwogIH0pOwoKICAvLyBXYWl0IGZvciB0aGUgdXNlciB0byBwaWNrIHRoZSBmaWxlcy4KICBjb25zdCBmaWxlcyA9IHlpZWxkIHsKICAgIHByb21pc2U6IFByb21pc2UucmFjZShbcGlja2VkUHJvbWlzZSwgY2FuY2VsUHJvbWlzZV0pLAogICAgcmVzcG9uc2U6IHsKICAgICAgYWN0aW9uOiAnc3RhcnRpbmcnLAogICAgfQogIH07CgogIGNhbmNlbC5yZW1vdmUoKTsKCiAgLy8gRGlzYWJsZSB0aGUgaW5wdXQgZWxlbWVudCBzaW5jZSBmdXJ0aGVyIHBpY2tzIGFyZSBub3QgYWxsb3dlZC4KICBpbnB1dEVsZW1lbnQuZGlzYWJsZWQgPSB0cnVlOwoKICBpZiAoIWZpbGVzKSB7CiAgICByZXR1cm4gewogICAgICByZXNwb25zZTogewogICAgICAgIGFjdGlvbjogJ2NvbXBsZXRlJywKICAgICAgfQogICAgfTsKICB9CgogIGZvciAoY29uc3QgZmlsZSBvZiBmaWxlcykgewogICAgY29uc3QgbGkgPSBkb2N1bWVudC5jcmVhdGVFbGVtZW50KCdsaScpOwogICAgbGkuYXBwZW5kKHNwYW4oZmlsZS5uYW1lLCB7Zm9udFdlaWdodDogJ2JvbGQnfSkpOwogICAgbGkuYXBwZW5kKHNwYW4oCiAgICAgICAgYCgke2ZpbGUudHlwZSB8fCAnbi9hJ30pIC0gJHtmaWxlLnNpemV9IGJ5dGVzLCBgICsKICAgICAgICBgbGFzdCBtb2RpZmllZDogJHsKICAgICAgICAgICAgZmlsZS5sYXN0TW9kaWZpZWREYXRlID8gZmlsZS5sYXN0TW9kaWZpZWREYXRlLnRvTG9jYWxlRGF0ZVN0cmluZygpIDoKICAgICAgICAgICAgICAgICAgICAgICAgICAgICAgICAgICAgJ24vYSd9IC0gYCkpOwogICAgY29uc3QgcGVyY2VudCA9IHNwYW4oJzAlIGRvbmUnKTsKICAgIGxpLmFwcGVuZENoaWxkKHBlcmNlbnQpOwoKICAgIG91dHB1dEVsZW1lbnQuYXBwZW5kQ2hpbGQobGkpOwoKICAgIGNvbnN0IGZpbGVEYXRhUHJvbWlzZSA9IG5ldyBQcm9taXNlKChyZXNvbHZlKSA9PiB7CiAgICAgIGNvbnN0IHJlYWRlciA9IG5ldyBGaWxlUmVhZGVyKCk7CiAgICAgIHJlYWRlci5vbmxvYWQgPSAoZSkgPT4gewogICAgICAgIHJlc29sdmUoZS50YXJnZXQucmVzdWx0KTsKICAgICAgfTsKICAgICAgcmVhZGVyLnJlYWRBc0FycmF5QnVmZmVyKGZpbGUpOwogICAgfSk7CiAgICAvLyBXYWl0IGZvciB0aGUgZGF0YSB0byBiZSByZWFkeS4KICAgIGxldCBmaWxlRGF0YSA9IHlpZWxkIHsKICAgICAgcHJvbWlzZTogZmlsZURhdGFQcm9taXNlLAogICAgICByZXNwb25zZTogewogICAgICAgIGFjdGlvbjogJ2NvbnRpbnVlJywKICAgICAgfQogICAgfTsKCiAgICAvLyBVc2UgYSBjaHVua2VkIHNlbmRpbmcgdG8gYXZvaWQgbWVzc2FnZSBzaXplIGxpbWl0cy4gU2VlIGIvNjIxMTU2NjAuCiAgICBsZXQgcG9zaXRpb24gPSAwOwogICAgd2hpbGUgKHBvc2l0aW9uIDwgZmlsZURhdGEuYnl0ZUxlbmd0aCkgewogICAgICBjb25zdCBsZW5ndGggPSBNYXRoLm1pbihmaWxlRGF0YS5ieXRlTGVuZ3RoIC0gcG9zaXRpb24sIE1BWF9QQVlMT0FEX1NJWkUpOwogICAgICBjb25zdCBjaHVuayA9IG5ldyBVaW50OEFycmF5KGZpbGVEYXRhLCBwb3NpdGlvbiwgbGVuZ3RoKTsKICAgICAgcG9zaXRpb24gKz0gbGVuZ3RoOwoKICAgICAgY29uc3QgYmFzZTY0ID0gYnRvYShTdHJpbmcuZnJvbUNoYXJDb2RlLmFwcGx5KG51bGwsIGNodW5rKSk7CiAgICAgIHlpZWxkIHsKICAgICAgICByZXNwb25zZTogewogICAgICAgICAgYWN0aW9uOiAnYXBwZW5kJywKICAgICAgICAgIGZpbGU6IGZpbGUubmFtZSwKICAgICAgICAgIGRhdGE6IGJhc2U2NCwKICAgICAgICB9LAogICAgICB9OwogICAgICBwZXJjZW50LnRleHRDb250ZW50ID0KICAgICAgICAgIGAke01hdGgucm91bmQoKHBvc2l0aW9uIC8gZmlsZURhdGEuYnl0ZUxlbmd0aCkgKiAxMDApfSUgZG9uZWA7CiAgICB9CiAgfQoKICAvLyBBbGwgZG9uZS4KICB5aWVsZCB7CiAgICByZXNwb25zZTogewogICAgICBhY3Rpb246ICdjb21wbGV0ZScsCiAgICB9CiAgfTsKfQoKc2NvcGUuZ29vZ2xlID0gc2NvcGUuZ29vZ2xlIHx8IHt9OwpzY29wZS5nb29nbGUuY29sYWIgPSBzY29wZS5nb29nbGUuY29sYWIgfHwge307CnNjb3BlLmdvb2dsZS5jb2xhYi5fZmlsZXMgPSB7CiAgX3VwbG9hZEZpbGVzLAogIF91cGxvYWRGaWxlc0NvbnRpbnVlLAp9Owp9KShzZWxmKTsK",
              "ok": true,
              "headers": [
                [
                  "content-type",
                  "application/javascript"
                ]
              ],
              "status": 200,
              "status_text": ""
            }
          },
          "base_uri": "https://localhost:8080/",
          "height": 89
        },
        "id": "BVpuoJKtwRNg",
        "outputId": "be3f4cea-8df4-4a30-d5fd-eb9d83a26aa4"
      },
      "source": [
        "# Getting the gsp\n",
        "from google.colab import files\n",
        "src = list(files.upload().values())[0]\n",
        "\n",
        "open('GSP.py','wb').write(src)"
      ],
      "execution_count": 21,
      "outputs": [
        {
          "output_type": "display_data",
          "data": {
            "text/html": [
              "\n",
              "     <input type=\"file\" id=\"files-89fde962-c333-4cda-9ecc-c41552cb6433\" name=\"files[]\" multiple disabled\n",
              "        style=\"border:none\" />\n",
              "     <output id=\"result-89fde962-c333-4cda-9ecc-c41552cb6433\">\n",
              "      Upload widget is only available when the cell has been executed in the\n",
              "      current browser session. Please rerun this cell to enable.\n",
              "      </output>\n",
              "      <script src=\"/nbextensions/google.colab/files.js\"></script> "
            ],
            "text/plain": [
              "<IPython.core.display.HTML object>"
            ]
          },
          "metadata": {
            "tags": []
          }
        },
        {
          "output_type": "stream",
          "text": [
            "Saving gsp.py to gsp.py\n"
          ],
          "name": "stdout"
        },
        {
          "output_type": "execute_result",
          "data": {
            "text/plain": [
              "4686"
            ]
          },
          "metadata": {
            "tags": []
          },
          "execution_count": 21
        }
      ]
    },
    {
      "cell_type": "code",
      "metadata": {
        "id": "WRAw2-_tyzne"
      },
      "source": [
        "import argparse\n",
        "import logging\n",
        "import random\n",
        "from gsp import GSP\n",
        "logging.basicConfig(level=logging.DEBUG)"
      ],
      "execution_count": 22,
      "outputs": []
    },
    {
      "cell_type": "code",
      "metadata": {
        "id": "Kliyo1EvS-Hr",
        "colab": {
          "base_uri": "https://localhost:8080/"
        },
        "outputId": "64f5dda4-20da-471f-bb21-a337d05c5bdd"
      },
      "source": [
        "# Fitting the pages into the gsp algorithm\n",
        "result = GSP(all_pages).search(0.25)"
      ],
      "execution_count": 23,
      "outputs": [
        {
          "output_type": "stream",
          "text": [
            "DEBUG:root:\n",
            "        Run 1\n",
            "        There are 2 candidates.\n",
            "        The candidates have been filtered down to 2.\n",
            "\n",
            "DEBUG:root:\n",
            "        Run 2\n",
            "        There are 4 candidates.\n",
            "        The candidates have been filtered down to 2.\n",
            "\n",
            "DEBUG:root:\n",
            "        Run 3\n",
            "        There are 8 candidates.\n",
            "        The candidates have been filtered down to 2.\n",
            "\n",
            "DEBUG:root:\n",
            "        Run 4\n",
            "        There are 16 candidates.\n",
            "        The candidates have been filtered down to 2.\n",
            "\n",
            "DEBUG:root:\n",
            "        Run 5\n",
            "        There are 32 candidates.\n",
            "        The candidates have been filtered down to 2.\n",
            "\n",
            "DEBUG:root:\n",
            "        Run 6\n",
            "        There are 64 candidates.\n",
            "        The candidates have been filtered down to 2.\n",
            "\n",
            "DEBUG:root:\n",
            "        Run 7\n",
            "        There are 128 candidates.\n",
            "        The candidates have been filtered down to 2.\n",
            "\n",
            "DEBUG:root:\n",
            "        Run 8\n",
            "        There are 256 candidates.\n",
            "        The candidates have been filtered down to 2.\n",
            "\n",
            "DEBUG:root:\n",
            "        Run 9\n",
            "        There are 512 candidates.\n",
            "        The candidates have been filtered down to 2.\n",
            "\n",
            "DEBUG:root:\n",
            "        Run 10\n",
            "        There are 1024 candidates.\n",
            "        The candidates have been filtered down to 2.\n",
            "\n",
            "DEBUG:root:\n",
            "        Run 11\n",
            "        There are 2048 candidates.\n",
            "        The candidates have been filtered down to 2.\n",
            "\n",
            "DEBUG:root:\n",
            "        Run 12\n",
            "        There are 4096 candidates.\n",
            "        The candidates have been filtered down to 2.\n",
            "\n",
            "DEBUG:root:\n",
            "        Run 13\n",
            "        There are 8192 candidates.\n",
            "        The candidates have been filtered down to 2.\n",
            "\n",
            "DEBUG:root:\n",
            "        Run 14\n",
            "        There are 16384 candidates.\n",
            "        The candidates have been filtered down to 1.\n",
            "\n",
            "DEBUG:root:\n",
            "        Run 15\n",
            "        There are 32768 candidates.\n",
            "        The candidates have been filtered down to 0.\n",
            "\n"
          ],
          "name": "stderr"
        }
      ]
    },
    {
      "cell_type": "code",
      "metadata": {
        "colab": {
          "base_uri": "https://localhost:8080/"
        },
        "id": "dpEdYOLzglt4",
        "outputId": "6f60c1b5-8256-47e2-97c9-1e149298b810"
      },
      "source": [
        "print(result)"
      ],
      "execution_count": 24,
      "outputs": [
        {
          "output_type": "stream",
          "text": [
            "[{('\"POST /administrator/index.php HTTP/1.1\"',): 10, ('\"GET /administrator/ HTTP/1.1\"',): 10}, {('\"GET /administrator/ HTTP/1.1\"', '\"POST /administrator/index.php HTTP/1.1\"'): 10, ('\"POST /administrator/index.php HTTP/1.1\"', '\"GET /administrator/ HTTP/1.1\"'): 7}, {('\"GET /administrator/ HTTP/1.1\"', '\"POST /administrator/index.php HTTP/1.1\"', '\"GET /administrator/ HTTP/1.1\"'): 7, ('\"POST /administrator/index.php HTTP/1.1\"', '\"GET /administrator/ HTTP/1.1\"', '\"POST /administrator/index.php HTTP/1.1\"'): 7}, {('\"GET /administrator/ HTTP/1.1\"', '\"POST /administrator/index.php HTTP/1.1\"', '\"GET /administrator/ HTTP/1.1\"', '\"POST /administrator/index.php HTTP/1.1\"'): 7, ('\"POST /administrator/index.php HTTP/1.1\"', '\"GET /administrator/ HTTP/1.1\"', '\"POST /administrator/index.php HTTP/1.1\"', '\"GET /administrator/ HTTP/1.1\"'): 7}, {('\"GET /administrator/ HTTP/1.1\"', '\"POST /administrator/index.php HTTP/1.1\"', '\"GET /administrator/ HTTP/1.1\"', '\"POST /administrator/index.php HTTP/1.1\"', '\"GET /administrator/ HTTP/1.1\"'): 7, ('\"POST /administrator/index.php HTTP/1.1\"', '\"GET /administrator/ HTTP/1.1\"', '\"POST /administrator/index.php HTTP/1.1\"', '\"GET /administrator/ HTTP/1.1\"', '\"POST /administrator/index.php HTTP/1.1\"'): 7}, {('\"GET /administrator/ HTTP/1.1\"', '\"POST /administrator/index.php HTTP/1.1\"', '\"GET /administrator/ HTTP/1.1\"', '\"POST /administrator/index.php HTTP/1.1\"', '\"GET /administrator/ HTTP/1.1\"', '\"POST /administrator/index.php HTTP/1.1\"'): 7, ('\"POST /administrator/index.php HTTP/1.1\"', '\"GET /administrator/ HTTP/1.1\"', '\"POST /administrator/index.php HTTP/1.1\"', '\"GET /administrator/ HTTP/1.1\"', '\"POST /administrator/index.php HTTP/1.1\"', '\"GET /administrator/ HTTP/1.1\"'): 6}, {('\"GET /administrator/ HTTP/1.1\"', '\"POST /administrator/index.php HTTP/1.1\"', '\"GET /administrator/ HTTP/1.1\"', '\"POST /administrator/index.php HTTP/1.1\"', '\"GET /administrator/ HTTP/1.1\"', '\"POST /administrator/index.php HTTP/1.1\"', '\"GET /administrator/ HTTP/1.1\"'): 6, ('\"POST /administrator/index.php HTTP/1.1\"', '\"GET /administrator/ HTTP/1.1\"', '\"POST /administrator/index.php HTTP/1.1\"', '\"GET /administrator/ HTTP/1.1\"', '\"POST /administrator/index.php HTTP/1.1\"', '\"GET /administrator/ HTTP/1.1\"', '\"POST /administrator/index.php HTTP/1.1\"'): 6}, {('\"GET /administrator/ HTTP/1.1\"', '\"POST /administrator/index.php HTTP/1.1\"', '\"GET /administrator/ HTTP/1.1\"', '\"POST /administrator/index.php HTTP/1.1\"', '\"GET /administrator/ HTTP/1.1\"', '\"POST /administrator/index.php HTTP/1.1\"', '\"GET /administrator/ HTTP/1.1\"', '\"POST /administrator/index.php HTTP/1.1\"'): 6, ('\"POST /administrator/index.php HTTP/1.1\"', '\"GET /administrator/ HTTP/1.1\"', '\"POST /administrator/index.php HTTP/1.1\"', '\"GET /administrator/ HTTP/1.1\"', '\"POST /administrator/index.php HTTP/1.1\"', '\"GET /administrator/ HTTP/1.1\"', '\"POST /administrator/index.php HTTP/1.1\"', '\"GET /administrator/ HTTP/1.1\"'): 4}, {('\"GET /administrator/ HTTP/1.1\"', '\"POST /administrator/index.php HTTP/1.1\"', '\"GET /administrator/ HTTP/1.1\"', '\"POST /administrator/index.php HTTP/1.1\"', '\"GET /administrator/ HTTP/1.1\"', '\"POST /administrator/index.php HTTP/1.1\"', '\"GET /administrator/ HTTP/1.1\"', '\"POST /administrator/index.php HTTP/1.1\"', '\"GET /administrator/ HTTP/1.1\"'): 4, ('\"POST /administrator/index.php HTTP/1.1\"', '\"GET /administrator/ HTTP/1.1\"', '\"POST /administrator/index.php HTTP/1.1\"', '\"GET /administrator/ HTTP/1.1\"', '\"POST /administrator/index.php HTTP/1.1\"', '\"GET /administrator/ HTTP/1.1\"', '\"POST /administrator/index.php HTTP/1.1\"', '\"GET /administrator/ HTTP/1.1\"', '\"POST /administrator/index.php HTTP/1.1\"'): 4}, {('\"GET /administrator/ HTTP/1.1\"', '\"POST /administrator/index.php HTTP/1.1\"', '\"GET /administrator/ HTTP/1.1\"', '\"POST /administrator/index.php HTTP/1.1\"', '\"GET /administrator/ HTTP/1.1\"', '\"POST /administrator/index.php HTTP/1.1\"', '\"GET /administrator/ HTTP/1.1\"', '\"POST /administrator/index.php HTTP/1.1\"', '\"GET /administrator/ HTTP/1.1\"', '\"POST /administrator/index.php HTTP/1.1\"'): 4, ('\"POST /administrator/index.php HTTP/1.1\"', '\"GET /administrator/ HTTP/1.1\"', '\"POST /administrator/index.php HTTP/1.1\"', '\"GET /administrator/ HTTP/1.1\"', '\"POST /administrator/index.php HTTP/1.1\"', '\"GET /administrator/ HTTP/1.1\"', '\"POST /administrator/index.php HTTP/1.1\"', '\"GET /administrator/ HTTP/1.1\"', '\"POST /administrator/index.php HTTP/1.1\"', '\"GET /administrator/ HTTP/1.1\"'): 3}, {('\"GET /administrator/ HTTP/1.1\"', '\"POST /administrator/index.php HTTP/1.1\"', '\"GET /administrator/ HTTP/1.1\"', '\"POST /administrator/index.php HTTP/1.1\"', '\"GET /administrator/ HTTP/1.1\"', '\"POST /administrator/index.php HTTP/1.1\"', '\"GET /administrator/ HTTP/1.1\"', '\"POST /administrator/index.php HTTP/1.1\"', '\"GET /administrator/ HTTP/1.1\"', '\"POST /administrator/index.php HTTP/1.1\"', '\"GET /administrator/ HTTP/1.1\"'): 3, ('\"POST /administrator/index.php HTTP/1.1\"', '\"GET /administrator/ HTTP/1.1\"', '\"POST /administrator/index.php HTTP/1.1\"', '\"GET /administrator/ HTTP/1.1\"', '\"POST /administrator/index.php HTTP/1.1\"', '\"GET /administrator/ HTTP/1.1\"', '\"POST /administrator/index.php HTTP/1.1\"', '\"GET /administrator/ HTTP/1.1\"', '\"POST /administrator/index.php HTTP/1.1\"', '\"GET /administrator/ HTTP/1.1\"', '\"POST /administrator/index.php HTTP/1.1\"'): 3}, {('\"GET /administrator/ HTTP/1.1\"', '\"POST /administrator/index.php HTTP/1.1\"', '\"GET /administrator/ HTTP/1.1\"', '\"POST /administrator/index.php HTTP/1.1\"', '\"GET /administrator/ HTTP/1.1\"', '\"POST /administrator/index.php HTTP/1.1\"', '\"GET /administrator/ HTTP/1.1\"', '\"POST /administrator/index.php HTTP/1.1\"', '\"GET /administrator/ HTTP/1.1\"', '\"POST /administrator/index.php HTTP/1.1\"', '\"GET /administrator/ HTTP/1.1\"', '\"POST /administrator/index.php HTTP/1.1\"'): 3, ('\"POST /administrator/index.php HTTP/1.1\"', '\"GET /administrator/ HTTP/1.1\"', '\"POST /administrator/index.php HTTP/1.1\"', '\"GET /administrator/ HTTP/1.1\"', '\"POST /administrator/index.php HTTP/1.1\"', '\"GET /administrator/ HTTP/1.1\"', '\"POST /administrator/index.php HTTP/1.1\"', '\"GET /administrator/ HTTP/1.1\"', '\"POST /administrator/index.php HTTP/1.1\"', '\"GET /administrator/ HTTP/1.1\"', '\"POST /administrator/index.php HTTP/1.1\"', '\"GET /administrator/ HTTP/1.1\"'): 3}, {('\"GET /administrator/ HTTP/1.1\"', '\"POST /administrator/index.php HTTP/1.1\"', '\"GET /administrator/ HTTP/1.1\"', '\"POST /administrator/index.php HTTP/1.1\"', '\"GET /administrator/ HTTP/1.1\"', '\"POST /administrator/index.php HTTP/1.1\"', '\"GET /administrator/ HTTP/1.1\"', '\"POST /administrator/index.php HTTP/1.1\"', '\"GET /administrator/ HTTP/1.1\"', '\"POST /administrator/index.php HTTP/1.1\"', '\"GET /administrator/ HTTP/1.1\"', '\"POST /administrator/index.php HTTP/1.1\"', '\"GET /administrator/ HTTP/1.1\"'): 3, ('\"POST /administrator/index.php HTTP/1.1\"', '\"GET /administrator/ HTTP/1.1\"', '\"POST /administrator/index.php HTTP/1.1\"', '\"GET /administrator/ HTTP/1.1\"', '\"POST /administrator/index.php HTTP/1.1\"', '\"GET /administrator/ HTTP/1.1\"', '\"POST /administrator/index.php HTTP/1.1\"', '\"GET /administrator/ HTTP/1.1\"', '\"POST /administrator/index.php HTTP/1.1\"', '\"GET /administrator/ HTTP/1.1\"', '\"POST /administrator/index.php HTTP/1.1\"', '\"GET /administrator/ HTTP/1.1\"', '\"POST /administrator/index.php HTTP/1.1\"'): 3}, {('\"GET /administrator/ HTTP/1.1\"', '\"POST /administrator/index.php HTTP/1.1\"', '\"GET /administrator/ HTTP/1.1\"', '\"POST /administrator/index.php HTTP/1.1\"', '\"GET /administrator/ HTTP/1.1\"', '\"POST /administrator/index.php HTTP/1.1\"', '\"GET /administrator/ HTTP/1.1\"', '\"POST /administrator/index.php HTTP/1.1\"', '\"GET /administrator/ HTTP/1.1\"', '\"POST /administrator/index.php HTTP/1.1\"', '\"GET /administrator/ HTTP/1.1\"', '\"POST /administrator/index.php HTTP/1.1\"', '\"GET /administrator/ HTTP/1.1\"', '\"POST /administrator/index.php HTTP/1.1\"'): 3}]\n"
          ],
          "name": "stdout"
        }
      ]
    },
    {
      "cell_type": "code",
      "metadata": {
        "id": "ZLhjHcwehdoN"
      },
      "source": [
        "nav=[]\n",
        "for i in result:\n",
        "  nav.append(list(i.keys()))\n",
        "\n",
        "number=[]\n",
        "for i in result:\n",
        "  number.append(list(i.values()))  "
      ],
      "execution_count": 25,
      "outputs": []
    },
    {
      "cell_type": "code",
      "metadata": {
        "id": "PuTfxMIChqdA"
      },
      "source": [
        "results = []\n",
        "for sublist in number:\n",
        "    for item in sublist:\n",
        "        results.append(item)\n",
        "\n",
        "resultnav = []\n",
        "for sublist in nav:\n",
        "    for item in sublist:\n",
        "        resultnav.append(item)"
      ],
      "execution_count": 26,
      "outputs": []
    },
    {
      "cell_type": "code",
      "metadata": {
        "colab": {
          "base_uri": "https://localhost:8080/",
          "height": 886
        },
        "id": "cTP8FmR5hvBo",
        "outputId": "d3afb275-5ad2-43d4-b295-71dbf6bdacf8"
      },
      "source": [
        "# Saving the navigation and frequency data into a dataframe\n",
        "data_nav = pd.DataFrame(\n",
        "    {'Navigation': resultnav,\n",
        "     'Frequency': results\n",
        "    })\n",
        "\n",
        "data_nav"
      ],
      "execution_count": 27,
      "outputs": [
        {
          "output_type": "execute_result",
          "data": {
            "text/html": [
              "<div>\n",
              "<style scoped>\n",
              "    .dataframe tbody tr th:only-of-type {\n",
              "        vertical-align: middle;\n",
              "    }\n",
              "\n",
              "    .dataframe tbody tr th {\n",
              "        vertical-align: top;\n",
              "    }\n",
              "\n",
              "    .dataframe thead th {\n",
              "        text-align: right;\n",
              "    }\n",
              "</style>\n",
              "<table border=\"1\" class=\"dataframe\">\n",
              "  <thead>\n",
              "    <tr style=\"text-align: right;\">\n",
              "      <th></th>\n",
              "      <th>Navigation</th>\n",
              "      <th>Frequency</th>\n",
              "    </tr>\n",
              "  </thead>\n",
              "  <tbody>\n",
              "    <tr>\n",
              "      <th>0</th>\n",
              "      <td>(\"POST /administrator/index.php HTTP/1.1\",)</td>\n",
              "      <td>10</td>\n",
              "    </tr>\n",
              "    <tr>\n",
              "      <th>1</th>\n",
              "      <td>(\"GET /administrator/ HTTP/1.1\",)</td>\n",
              "      <td>10</td>\n",
              "    </tr>\n",
              "    <tr>\n",
              "      <th>2</th>\n",
              "      <td>(\"GET /administrator/ HTTP/1.1\", \"POST /admini...</td>\n",
              "      <td>10</td>\n",
              "    </tr>\n",
              "    <tr>\n",
              "      <th>3</th>\n",
              "      <td>(\"POST /administrator/index.php HTTP/1.1\", \"GE...</td>\n",
              "      <td>7</td>\n",
              "    </tr>\n",
              "    <tr>\n",
              "      <th>4</th>\n",
              "      <td>(\"GET /administrator/ HTTP/1.1\", \"POST /admini...</td>\n",
              "      <td>7</td>\n",
              "    </tr>\n",
              "    <tr>\n",
              "      <th>5</th>\n",
              "      <td>(\"POST /administrator/index.php HTTP/1.1\", \"GE...</td>\n",
              "      <td>7</td>\n",
              "    </tr>\n",
              "    <tr>\n",
              "      <th>6</th>\n",
              "      <td>(\"GET /administrator/ HTTP/1.1\", \"POST /admini...</td>\n",
              "      <td>7</td>\n",
              "    </tr>\n",
              "    <tr>\n",
              "      <th>7</th>\n",
              "      <td>(\"POST /administrator/index.php HTTP/1.1\", \"GE...</td>\n",
              "      <td>7</td>\n",
              "    </tr>\n",
              "    <tr>\n",
              "      <th>8</th>\n",
              "      <td>(\"GET /administrator/ HTTP/1.1\", \"POST /admini...</td>\n",
              "      <td>7</td>\n",
              "    </tr>\n",
              "    <tr>\n",
              "      <th>9</th>\n",
              "      <td>(\"POST /administrator/index.php HTTP/1.1\", \"GE...</td>\n",
              "      <td>7</td>\n",
              "    </tr>\n",
              "    <tr>\n",
              "      <th>10</th>\n",
              "      <td>(\"GET /administrator/ HTTP/1.1\", \"POST /admini...</td>\n",
              "      <td>7</td>\n",
              "    </tr>\n",
              "    <tr>\n",
              "      <th>11</th>\n",
              "      <td>(\"POST /administrator/index.php HTTP/1.1\", \"GE...</td>\n",
              "      <td>6</td>\n",
              "    </tr>\n",
              "    <tr>\n",
              "      <th>12</th>\n",
              "      <td>(\"GET /administrator/ HTTP/1.1\", \"POST /admini...</td>\n",
              "      <td>6</td>\n",
              "    </tr>\n",
              "    <tr>\n",
              "      <th>13</th>\n",
              "      <td>(\"POST /administrator/index.php HTTP/1.1\", \"GE...</td>\n",
              "      <td>6</td>\n",
              "    </tr>\n",
              "    <tr>\n",
              "      <th>14</th>\n",
              "      <td>(\"GET /administrator/ HTTP/1.1\", \"POST /admini...</td>\n",
              "      <td>6</td>\n",
              "    </tr>\n",
              "    <tr>\n",
              "      <th>15</th>\n",
              "      <td>(\"POST /administrator/index.php HTTP/1.1\", \"GE...</td>\n",
              "      <td>4</td>\n",
              "    </tr>\n",
              "    <tr>\n",
              "      <th>16</th>\n",
              "      <td>(\"GET /administrator/ HTTP/1.1\", \"POST /admini...</td>\n",
              "      <td>4</td>\n",
              "    </tr>\n",
              "    <tr>\n",
              "      <th>17</th>\n",
              "      <td>(\"POST /administrator/index.php HTTP/1.1\", \"GE...</td>\n",
              "      <td>4</td>\n",
              "    </tr>\n",
              "    <tr>\n",
              "      <th>18</th>\n",
              "      <td>(\"GET /administrator/ HTTP/1.1\", \"POST /admini...</td>\n",
              "      <td>4</td>\n",
              "    </tr>\n",
              "    <tr>\n",
              "      <th>19</th>\n",
              "      <td>(\"POST /administrator/index.php HTTP/1.1\", \"GE...</td>\n",
              "      <td>3</td>\n",
              "    </tr>\n",
              "    <tr>\n",
              "      <th>20</th>\n",
              "      <td>(\"GET /administrator/ HTTP/1.1\", \"POST /admini...</td>\n",
              "      <td>3</td>\n",
              "    </tr>\n",
              "    <tr>\n",
              "      <th>21</th>\n",
              "      <td>(\"POST /administrator/index.php HTTP/1.1\", \"GE...</td>\n",
              "      <td>3</td>\n",
              "    </tr>\n",
              "    <tr>\n",
              "      <th>22</th>\n",
              "      <td>(\"GET /administrator/ HTTP/1.1\", \"POST /admini...</td>\n",
              "      <td>3</td>\n",
              "    </tr>\n",
              "    <tr>\n",
              "      <th>23</th>\n",
              "      <td>(\"POST /administrator/index.php HTTP/1.1\", \"GE...</td>\n",
              "      <td>3</td>\n",
              "    </tr>\n",
              "    <tr>\n",
              "      <th>24</th>\n",
              "      <td>(\"GET /administrator/ HTTP/1.1\", \"POST /admini...</td>\n",
              "      <td>3</td>\n",
              "    </tr>\n",
              "    <tr>\n",
              "      <th>25</th>\n",
              "      <td>(\"POST /administrator/index.php HTTP/1.1\", \"GE...</td>\n",
              "      <td>3</td>\n",
              "    </tr>\n",
              "    <tr>\n",
              "      <th>26</th>\n",
              "      <td>(\"GET /administrator/ HTTP/1.1\", \"POST /admini...</td>\n",
              "      <td>3</td>\n",
              "    </tr>\n",
              "  </tbody>\n",
              "</table>\n",
              "</div>"
            ],
            "text/plain": [
              "                                           Navigation  Frequency\n",
              "0         (\"POST /administrator/index.php HTTP/1.1\",)         10\n",
              "1                   (\"GET /administrator/ HTTP/1.1\",)         10\n",
              "2   (\"GET /administrator/ HTTP/1.1\", \"POST /admini...         10\n",
              "3   (\"POST /administrator/index.php HTTP/1.1\", \"GE...          7\n",
              "4   (\"GET /administrator/ HTTP/1.1\", \"POST /admini...          7\n",
              "5   (\"POST /administrator/index.php HTTP/1.1\", \"GE...          7\n",
              "6   (\"GET /administrator/ HTTP/1.1\", \"POST /admini...          7\n",
              "7   (\"POST /administrator/index.php HTTP/1.1\", \"GE...          7\n",
              "8   (\"GET /administrator/ HTTP/1.1\", \"POST /admini...          7\n",
              "9   (\"POST /administrator/index.php HTTP/1.1\", \"GE...          7\n",
              "10  (\"GET /administrator/ HTTP/1.1\", \"POST /admini...          7\n",
              "11  (\"POST /administrator/index.php HTTP/1.1\", \"GE...          6\n",
              "12  (\"GET /administrator/ HTTP/1.1\", \"POST /admini...          6\n",
              "13  (\"POST /administrator/index.php HTTP/1.1\", \"GE...          6\n",
              "14  (\"GET /administrator/ HTTP/1.1\", \"POST /admini...          6\n",
              "15  (\"POST /administrator/index.php HTTP/1.1\", \"GE...          4\n",
              "16  (\"GET /administrator/ HTTP/1.1\", \"POST /admini...          4\n",
              "17  (\"POST /administrator/index.php HTTP/1.1\", \"GE...          4\n",
              "18  (\"GET /administrator/ HTTP/1.1\", \"POST /admini...          4\n",
              "19  (\"POST /administrator/index.php HTTP/1.1\", \"GE...          3\n",
              "20  (\"GET /administrator/ HTTP/1.1\", \"POST /admini...          3\n",
              "21  (\"POST /administrator/index.php HTTP/1.1\", \"GE...          3\n",
              "22  (\"GET /administrator/ HTTP/1.1\", \"POST /admini...          3\n",
              "23  (\"POST /administrator/index.php HTTP/1.1\", \"GE...          3\n",
              "24  (\"GET /administrator/ HTTP/1.1\", \"POST /admini...          3\n",
              "25  (\"POST /administrator/index.php HTTP/1.1\", \"GE...          3\n",
              "26  (\"GET /administrator/ HTTP/1.1\", \"POST /admini...          3"
            ]
          },
          "metadata": {
            "tags": []
          },
          "execution_count": 27
        }
      ]
    },
    {
      "cell_type": "markdown",
      "metadata": {
        "id": "D6-JTX5qjt6i"
      },
      "source": [
        "### **Question 5: Showing clusters of users with similar  navigational patterns**"
      ]
    },
    {
      "cell_type": "code",
      "metadata": {
        "colab": {
          "base_uri": "https://localhost:8080/",
          "height": 204
        },
        "id": "R2sEtuiTjkVf",
        "outputId": "a880b48a-187f-458d-b6fc-34e59c50b5b2"
      },
      "source": [
        "# Printing the dataset showing page sessions\n",
        "sess_df.head()"
      ],
      "execution_count": 28,
      "outputs": [
        {
          "output_type": "execute_result",
          "data": {
            "text/html": [
              "<div>\n",
              "<style scoped>\n",
              "    .dataframe tbody tr th:only-of-type {\n",
              "        vertical-align: middle;\n",
              "    }\n",
              "\n",
              "    .dataframe tbody tr th {\n",
              "        vertical-align: top;\n",
              "    }\n",
              "\n",
              "    .dataframe thead th {\n",
              "        text-align: right;\n",
              "    }\n",
              "</style>\n",
              "<table border=\"1\" class=\"dataframe\">\n",
              "  <thead>\n",
              "    <tr style=\"text-align: right;\">\n",
              "      <th></th>\n",
              "      <th>IP_address</th>\n",
              "      <th>Client_Device</th>\n",
              "      <th>Time_of_activity</th>\n",
              "      <th>Requested_Page</th>\n",
              "    </tr>\n",
              "  </thead>\n",
              "  <tbody>\n",
              "    <tr>\n",
              "      <th>0</th>\n",
              "      <td>1.0.180.160</td>\n",
              "      <td>\"Mozilla/5.0 (Windows NT 6.2) AppleWebKit/537....</td>\n",
              "      <td>[11/Feb/2016:08:37:15 +0100]</td>\n",
              "      <td>\"GET /apache-log/access.log HTTP/1.1\"</td>\n",
              "    </tr>\n",
              "    <tr>\n",
              "      <th>1</th>\n",
              "      <td>1.0.180.160</td>\n",
              "      <td>\"Opera/9.80 (Windows NT 6.2; Win64; x64) Prest...</td>\n",
              "      <td>[11/Feb/2016:08:37:16 +0100]</td>\n",
              "      <td>\"GET /wp-login.php HTTP/1.1\"</td>\n",
              "    </tr>\n",
              "    <tr>\n",
              "      <th>2</th>\n",
              "      <td>1.0.180.160</td>\n",
              "      <td>\"Opera/9.80 (Windows NT 6.2; Win64; x64) Prest...</td>\n",
              "      <td>[11/Feb/2016:08:37:25 +0100]</td>\n",
              "      <td>\"GET /apache-log/access.log HTTP/1.1\"</td>\n",
              "    </tr>\n",
              "    <tr>\n",
              "      <th>3</th>\n",
              "      <td>1.0.180.160</td>\n",
              "      <td>\"Opera/9.80 (Windows NT 6.2; Win64; x64) Prest...</td>\n",
              "      <td>[11/Feb/2016:08:37:29 +0100]</td>\n",
              "      <td>\"GET /index.php?option=com_easyblog&amp;view=dashb...</td>\n",
              "    </tr>\n",
              "    <tr>\n",
              "      <th>4</th>\n",
              "      <td>1.0.180.237</td>\n",
              "      <td>\"Mozilla/5.0 (Windows NT 6.1; rv:35.0) Gecko/2...</td>\n",
              "      <td>[25/Jan/2016:04:55:01 +0100]</td>\n",
              "      <td>\"GET /apache-log/access.log HTTP/1.1\"</td>\n",
              "    </tr>\n",
              "  </tbody>\n",
              "</table>\n",
              "</div>"
            ],
            "text/plain": [
              "    IP_address  ...                                     Requested_Page\n",
              "0  1.0.180.160  ...              \"GET /apache-log/access.log HTTP/1.1\"\n",
              "1  1.0.180.160  ...                       \"GET /wp-login.php HTTP/1.1\"\n",
              "2  1.0.180.160  ...              \"GET /apache-log/access.log HTTP/1.1\"\n",
              "3  1.0.180.160  ...  \"GET /index.php?option=com_easyblog&view=dashb...\n",
              "4  1.0.180.237  ...              \"GET /apache-log/access.log HTTP/1.1\"\n",
              "\n",
              "[5 rows x 4 columns]"
            ]
          },
          "metadata": {
            "tags": []
          },
          "execution_count": 28
        }
      ]
    },
    {
      "cell_type": "code",
      "metadata": {
        "id": "x3_0x9PAm1-W"
      },
      "source": [
        "def convertTuple(tup): \n",
        "    str =  ''.join(tup) \n",
        "    return str\n",
        "\n",
        "# for i in range(len(session_df['User'])):\n",
        "#   session_df['User'][i] = convertTuple(session_df['User'][i])"
      ],
      "execution_count": 29,
      "outputs": []
    },
    {
      "cell_type": "code",
      "metadata": {
        "colab": {
          "base_uri": "https://localhost:8080/",
          "height": 204
        },
        "id": "YchoNv53ki7z",
        "outputId": "2d8999dd-c51a-4a39-fd9e-375c91966f72"
      },
      "source": [
        "# Encoding the Ip adress, device, and pages accessed\n",
        "from sklearn.preprocessing import LabelEncoder\n",
        "le = LabelEncoder()\n",
        "\n",
        "sess_df['IP_address'] = le.fit_transform(sess_df['IP_address'])\n",
        "sess_df['Client_Device'] = le.fit_transform(sess_df['Client_Device'])\n",
        "sess_df['Requested_Page'] = le.fit_transform(sess_df['Requested_Page'])\n",
        "\n",
        "sess_df.head()"
      ],
      "execution_count": 30,
      "outputs": [
        {
          "output_type": "execute_result",
          "data": {
            "text/html": [
              "<div>\n",
              "<style scoped>\n",
              "    .dataframe tbody tr th:only-of-type {\n",
              "        vertical-align: middle;\n",
              "    }\n",
              "\n",
              "    .dataframe tbody tr th {\n",
              "        vertical-align: top;\n",
              "    }\n",
              "\n",
              "    .dataframe thead th {\n",
              "        text-align: right;\n",
              "    }\n",
              "</style>\n",
              "<table border=\"1\" class=\"dataframe\">\n",
              "  <thead>\n",
              "    <tr style=\"text-align: right;\">\n",
              "      <th></th>\n",
              "      <th>IP_address</th>\n",
              "      <th>Client_Device</th>\n",
              "      <th>Time_of_activity</th>\n",
              "      <th>Requested_Page</th>\n",
              "    </tr>\n",
              "  </thead>\n",
              "  <tbody>\n",
              "    <tr>\n",
              "      <th>0</th>\n",
              "      <td>0</td>\n",
              "      <td>330</td>\n",
              "      <td>[11/Feb/2016:08:37:15 +0100]</td>\n",
              "      <td>277</td>\n",
              "    </tr>\n",
              "    <tr>\n",
              "      <th>1</th>\n",
              "      <td>0</td>\n",
              "      <td>524</td>\n",
              "      <td>[11/Feb/2016:08:37:16 +0100]</td>\n",
              "      <td>2059</td>\n",
              "    </tr>\n",
              "    <tr>\n",
              "      <th>2</th>\n",
              "      <td>0</td>\n",
              "      <td>524</td>\n",
              "      <td>[11/Feb/2016:08:37:25 +0100]</td>\n",
              "      <td>277</td>\n",
              "    </tr>\n",
              "    <tr>\n",
              "      <th>3</th>\n",
              "      <td>0</td>\n",
              "      <td>524</td>\n",
              "      <td>[11/Feb/2016:08:37:29 +0100]</td>\n",
              "      <td>1722</td>\n",
              "    </tr>\n",
              "    <tr>\n",
              "      <th>4</th>\n",
              "      <td>1</td>\n",
              "      <td>324</td>\n",
              "      <td>[25/Jan/2016:04:55:01 +0100]</td>\n",
              "      <td>277</td>\n",
              "    </tr>\n",
              "  </tbody>\n",
              "</table>\n",
              "</div>"
            ],
            "text/plain": [
              "   IP_address  Client_Device              Time_of_activity  Requested_Page\n",
              "0           0            330  [11/Feb/2016:08:37:15 +0100]             277\n",
              "1           0            524  [11/Feb/2016:08:37:16 +0100]            2059\n",
              "2           0            524  [11/Feb/2016:08:37:25 +0100]             277\n",
              "3           0            524  [11/Feb/2016:08:37:29 +0100]            1722\n",
              "4           1            324  [25/Jan/2016:04:55:01 +0100]             277"
            ]
          },
          "metadata": {
            "tags": []
          },
          "execution_count": 30
        }
      ]
    },
    {
      "cell_type": "code",
      "metadata": {
        "colab": {
          "base_uri": "https://localhost:8080/",
          "height": 204
        },
        "id": "cHG5yr4l0VrK",
        "outputId": "dbb6e37f-52a8-464f-ebc5-b4762ecc5e10"
      },
      "source": [
        "# Removing the time of the activity\n",
        "sess_df = sess_df.drop(['Time_of_activity'], axis=1)\n",
        "sess_df.head()"
      ],
      "execution_count": 31,
      "outputs": [
        {
          "output_type": "execute_result",
          "data": {
            "text/html": [
              "<div>\n",
              "<style scoped>\n",
              "    .dataframe tbody tr th:only-of-type {\n",
              "        vertical-align: middle;\n",
              "    }\n",
              "\n",
              "    .dataframe tbody tr th {\n",
              "        vertical-align: top;\n",
              "    }\n",
              "\n",
              "    .dataframe thead th {\n",
              "        text-align: right;\n",
              "    }\n",
              "</style>\n",
              "<table border=\"1\" class=\"dataframe\">\n",
              "  <thead>\n",
              "    <tr style=\"text-align: right;\">\n",
              "      <th></th>\n",
              "      <th>IP_address</th>\n",
              "      <th>Client_Device</th>\n",
              "      <th>Requested_Page</th>\n",
              "    </tr>\n",
              "  </thead>\n",
              "  <tbody>\n",
              "    <tr>\n",
              "      <th>0</th>\n",
              "      <td>0</td>\n",
              "      <td>330</td>\n",
              "      <td>277</td>\n",
              "    </tr>\n",
              "    <tr>\n",
              "      <th>1</th>\n",
              "      <td>0</td>\n",
              "      <td>524</td>\n",
              "      <td>2059</td>\n",
              "    </tr>\n",
              "    <tr>\n",
              "      <th>2</th>\n",
              "      <td>0</td>\n",
              "      <td>524</td>\n",
              "      <td>277</td>\n",
              "    </tr>\n",
              "    <tr>\n",
              "      <th>3</th>\n",
              "      <td>0</td>\n",
              "      <td>524</td>\n",
              "      <td>1722</td>\n",
              "    </tr>\n",
              "    <tr>\n",
              "      <th>4</th>\n",
              "      <td>1</td>\n",
              "      <td>324</td>\n",
              "      <td>277</td>\n",
              "    </tr>\n",
              "  </tbody>\n",
              "</table>\n",
              "</div>"
            ],
            "text/plain": [
              "   IP_address  Client_Device  Requested_Page\n",
              "0           0            330             277\n",
              "1           0            524            2059\n",
              "2           0            524             277\n",
              "3           0            524            1722\n",
              "4           1            324             277"
            ]
          },
          "metadata": {
            "tags": []
          },
          "execution_count": 31
        }
      ]
    },
    {
      "cell_type": "code",
      "metadata": {
        "colab": {
          "base_uri": "https://localhost:8080/",
          "height": 1000
        },
        "id": "quLoPXS7o3eF",
        "outputId": "56f564e0-3c2e-41d5-a18d-6d317128254f"
      },
      "source": [
        "# Plotting the Ip address against requested_page\n",
        "plt.figure(figsize=(7, 5))\n",
        "plt.title(\"IP address versus requested pages\")\n",
        "plt.scatter(sess_df['IP_address'], sess_df['Requested_Page'])\n",
        "plt.xlabel(\"Encoded IP Addresses\")\n",
        "plt.ylabel(\"Encoded web pages\")"
      ],
      "execution_count": 32,
      "outputs": [
        {
          "output_type": "execute_result",
          "data": {
            "text/plain": [
              "Text(0, 0.5, 'Encoded web pages')"
            ]
          },
          "metadata": {
            "tags": []
          },
          "execution_count": 32
        },
        {
          "output_type": "stream",
          "text": [
            "DEBUG:matplotlib.font_manager:findfont: Matching sans\\-serif:style=normal:variant=normal:weight=normal:stretch=normal:size=12.0.\n",
            "DEBUG:matplotlib.font_manager:findfont: score(<Font 'cmsy10' (cmsy10.ttf) normal normal 400 normal>) = 10.05\n",
            "DEBUG:matplotlib.font_manager:findfont: score(<Font 'STIXSizeTwoSym' (STIXSizTwoSymReg.ttf) normal normal regular normal>) = 10.05\n",
            "DEBUG:matplotlib.font_manager:findfont: score(<Font 'DejaVu Sans' (DejaVuSans-Oblique.ttf) oblique normal 400 normal>) = 1.05\n",
            "DEBUG:matplotlib.font_manager:findfont: score(<Font 'DejaVu Sans' (DejaVuSans-Bold.ttf) normal normal 700 normal>) = 0.33499999999999996\n",
            "DEBUG:matplotlib.font_manager:findfont: score(<Font 'cmex10' (cmex10.ttf) normal normal 400 normal>) = 10.05\n",
            "DEBUG:matplotlib.font_manager:findfont: score(<Font 'STIXGeneral' (STIXGeneralBol.ttf) normal normal 700 normal>) = 10.335\n",
            "DEBUG:matplotlib.font_manager:findfont: score(<Font 'DejaVu Serif' (DejaVuSerif.ttf) normal normal 400 normal>) = 10.05\n",
            "DEBUG:matplotlib.font_manager:findfont: score(<Font 'STIXGeneral' (STIXGeneralBolIta.ttf) italic normal 700 normal>) = 11.335\n",
            "DEBUG:matplotlib.font_manager:findfont: score(<Font 'STIXNonUnicode' (STIXNonUni.ttf) normal normal regular normal>) = 10.05\n",
            "DEBUG:matplotlib.font_manager:findfont: score(<Font 'STIXSizeOneSym' (STIXSizOneSymBol.ttf) normal normal 700 normal>) = 10.335\n",
            "DEBUG:matplotlib.font_manager:findfont: score(<Font 'STIXNonUnicode' (STIXNonUniBolIta.ttf) italic normal 700 normal>) = 11.335\n",
            "DEBUG:matplotlib.font_manager:findfont: score(<Font 'STIXSizeThreeSym' (STIXSizThreeSymReg.ttf) normal normal regular normal>) = 10.05\n",
            "DEBUG:matplotlib.font_manager:findfont: score(<Font 'DejaVu Sans' (DejaVuSans-BoldOblique.ttf) oblique normal 700 normal>) = 1.335\n",
            "DEBUG:matplotlib.font_manager:findfont: score(<Font 'DejaVu Serif' (DejaVuSerif-BoldItalic.ttf) italic normal 700 normal>) = 11.335\n",
            "DEBUG:matplotlib.font_manager:findfont: score(<Font 'DejaVu Sans Mono' (DejaVuSansMono-Oblique.ttf) oblique normal 400 normal>) = 11.05\n",
            "DEBUG:matplotlib.font_manager:findfont: score(<Font 'cmss10' (cmss10.ttf) normal normal 400 normal>) = 10.05\n",
            "DEBUG:matplotlib.font_manager:findfont: score(<Font 'STIXGeneral' (STIXGeneral.ttf) normal normal regular normal>) = 10.05\n",
            "DEBUG:matplotlib.font_manager:findfont: score(<Font 'STIXSizeTwoSym' (STIXSizTwoSymBol.ttf) normal normal 700 normal>) = 10.335\n",
            "DEBUG:matplotlib.font_manager:findfont: score(<Font 'DejaVu Serif' (DejaVuSerif-Italic.ttf) italic normal 400 normal>) = 11.05\n",
            "DEBUG:matplotlib.font_manager:findfont: score(<Font 'STIXSizeFiveSym' (STIXSizFiveSymReg.ttf) normal normal regular normal>) = 10.05\n",
            "DEBUG:matplotlib.font_manager:findfont: score(<Font 'STIXGeneral' (STIXGeneralItalic.ttf) italic normal 400 normal>) = 11.05\n",
            "DEBUG:matplotlib.font_manager:findfont: score(<Font 'DejaVu Serif Display' (DejaVuSerifDisplay.ttf) normal normal 400 normal>) = 10.05\n",
            "DEBUG:matplotlib.font_manager:findfont: score(<Font 'DejaVu Sans Mono' (DejaVuSansMono.ttf) normal normal 400 normal>) = 10.05\n",
            "DEBUG:matplotlib.font_manager:findfont: score(<Font 'DejaVu Sans Mono' (DejaVuSansMono-Bold.ttf) normal normal 700 normal>) = 10.335\n",
            "DEBUG:matplotlib.font_manager:findfont: score(<Font 'STIXNonUnicode' (STIXNonUniBol.ttf) normal normal 700 normal>) = 10.335\n",
            "DEBUG:matplotlib.font_manager:findfont: score(<Font 'STIXNonUnicode' (STIXNonUniIta.ttf) italic normal 400 normal>) = 11.05\n",
            "DEBUG:matplotlib.font_manager:findfont: score(<Font 'STIXSizeThreeSym' (STIXSizThreeSymBol.ttf) normal normal 700 normal>) = 10.335\n",
            "DEBUG:matplotlib.font_manager:findfont: score(<Font 'DejaVu Serif' (DejaVuSerif-Bold.ttf) normal normal 700 normal>) = 10.335\n",
            "DEBUG:matplotlib.font_manager:findfont: score(<Font 'DejaVu Sans Display' (DejaVuSansDisplay.ttf) normal normal 400 normal>) = 10.05\n",
            "DEBUG:matplotlib.font_manager:findfont: score(<Font 'DejaVu Sans Mono' (DejaVuSansMono-BoldOblique.ttf) oblique normal 700 normal>) = 11.335\n",
            "DEBUG:matplotlib.font_manager:findfont: score(<Font 'STIXSizeFourSym' (STIXSizFourSymReg.ttf) normal normal regular normal>) = 10.05\n",
            "DEBUG:matplotlib.font_manager:findfont: score(<Font 'DejaVu Sans' (DejaVuSans.ttf) normal normal 400 normal>) = 0.05\n",
            "DEBUG:matplotlib.font_manager:findfont: score(<Font 'cmmi10' (cmmi10.ttf) normal normal 400 normal>) = 10.05\n",
            "DEBUG:matplotlib.font_manager:findfont: score(<Font 'cmtt10' (cmtt10.ttf) normal normal 400 normal>) = 10.05\n",
            "DEBUG:matplotlib.font_manager:findfont: score(<Font 'STIXSizeOneSym' (STIXSizOneSymReg.ttf) normal normal regular normal>) = 10.05\n",
            "DEBUG:matplotlib.font_manager:findfont: score(<Font 'cmb10' (cmb10.ttf) normal normal 400 normal>) = 10.05\n",
            "DEBUG:matplotlib.font_manager:findfont: score(<Font 'STIXSizeFourSym' (STIXSizFourSymBol.ttf) normal normal 700 normal>) = 10.335\n",
            "DEBUG:matplotlib.font_manager:findfont: score(<Font 'cmr10' (cmr10.ttf) normal normal 400 normal>) = 10.05\n",
            "DEBUG:matplotlib.font_manager:findfont: score(<Font 'Liberation Mono' (LiberationMono-BoldItalic.ttf) italic normal 700 normal>) = 11.335\n",
            "DEBUG:matplotlib.font_manager:findfont: score(<Font 'Liberation Serif' (LiberationSerif-BoldItalic.ttf) italic normal 700 normal>) = 11.335\n",
            "DEBUG:matplotlib.font_manager:findfont: score(<Font 'Liberation Sans Narrow' (LiberationSansNarrow-BoldItalic.ttf) italic normal 700 condensed>) = 11.535\n",
            "DEBUG:matplotlib.font_manager:findfont: score(<Font 'Liberation Sans' (LiberationSans-Regular.ttf) normal normal 400 normal>) = 10.05\n",
            "DEBUG:matplotlib.font_manager:findfont: score(<Font 'Liberation Sans' (LiberationSans-Bold.ttf) normal normal 700 normal>) = 10.335\n",
            "DEBUG:matplotlib.font_manager:findfont: score(<Font 'Liberation Sans' (LiberationSans-Italic.ttf) italic normal 400 normal>) = 11.05\n",
            "DEBUG:matplotlib.font_manager:findfont: score(<Font 'Liberation Sans' (LiberationSans-BoldItalic.ttf) italic normal 700 normal>) = 11.335\n",
            "DEBUG:matplotlib.font_manager:findfont: score(<Font 'Liberation Sans Narrow' (LiberationSansNarrow-Italic.ttf) italic normal 400 condensed>) = 11.25\n",
            "DEBUG:matplotlib.font_manager:findfont: score(<Font 'Liberation Mono' (LiberationMono-Regular.ttf) normal normal 400 normal>) = 10.05\n",
            "DEBUG:matplotlib.font_manager:findfont: score(<Font 'Liberation Serif' (LiberationSerif-Regular.ttf) normal normal 400 normal>) = 10.05\n",
            "DEBUG:matplotlib.font_manager:findfont: score(<Font 'Liberation Serif' (LiberationSerif-Bold.ttf) normal normal 700 normal>) = 10.335\n",
            "DEBUG:matplotlib.font_manager:findfont: score(<Font 'Liberation Mono' (LiberationMono-Bold.ttf) normal normal 700 normal>) = 10.335\n",
            "DEBUG:matplotlib.font_manager:findfont: score(<Font 'Liberation Sans Narrow' (LiberationSansNarrow-Bold.ttf) normal normal 700 condensed>) = 10.535\n",
            "DEBUG:matplotlib.font_manager:findfont: score(<Font 'Liberation Serif' (LiberationSerif-Italic.ttf) italic normal 400 normal>) = 11.05\n",
            "DEBUG:matplotlib.font_manager:findfont: score(<Font 'Liberation Mono' (LiberationMono-Italic.ttf) italic normal 400 normal>) = 11.05\n",
            "DEBUG:matplotlib.font_manager:findfont: score(<Font 'Liberation Sans Narrow' (LiberationSansNarrow-Regular.ttf) normal normal 400 condensed>) = 10.25\n",
            "DEBUG:matplotlib.font_manager:findfont: score(<Font 'Humor Sans' (Humor-Sans.ttf) normal normal 400 normal>) = 10.05\n",
            "DEBUG:matplotlib.font_manager:findfont: Matching sans\\-serif:style=normal:variant=normal:weight=normal:stretch=normal:size=12.0 to DejaVu Sans ('/usr/local/lib/python3.7/dist-packages/matplotlib/mpl-data/fonts/ttf/DejaVuSans.ttf') with score of 0.050000.\n",
            "DEBUG:matplotlib.font_manager:findfont: Matching sans\\-serif:style=normal:variant=normal:weight=normal:stretch=normal:size=10.0.\n",
            "DEBUG:matplotlib.font_manager:findfont: score(<Font 'cmsy10' (cmsy10.ttf) normal normal 400 normal>) = 10.05\n",
            "DEBUG:matplotlib.font_manager:findfont: score(<Font 'STIXSizeTwoSym' (STIXSizTwoSymReg.ttf) normal normal regular normal>) = 10.05\n",
            "DEBUG:matplotlib.font_manager:findfont: score(<Font 'DejaVu Sans' (DejaVuSans-Oblique.ttf) oblique normal 400 normal>) = 1.05\n",
            "DEBUG:matplotlib.font_manager:findfont: score(<Font 'DejaVu Sans' (DejaVuSans-Bold.ttf) normal normal 700 normal>) = 0.33499999999999996\n",
            "DEBUG:matplotlib.font_manager:findfont: score(<Font 'cmex10' (cmex10.ttf) normal normal 400 normal>) = 10.05\n",
            "DEBUG:matplotlib.font_manager:findfont: score(<Font 'STIXGeneral' (STIXGeneralBol.ttf) normal normal 700 normal>) = 10.335\n",
            "DEBUG:matplotlib.font_manager:findfont: score(<Font 'DejaVu Serif' (DejaVuSerif.ttf) normal normal 400 normal>) = 10.05\n",
            "DEBUG:matplotlib.font_manager:findfont: score(<Font 'STIXGeneral' (STIXGeneralBolIta.ttf) italic normal 700 normal>) = 11.335\n",
            "DEBUG:matplotlib.font_manager:findfont: score(<Font 'STIXNonUnicode' (STIXNonUni.ttf) normal normal regular normal>) = 10.05\n",
            "DEBUG:matplotlib.font_manager:findfont: score(<Font 'STIXSizeOneSym' (STIXSizOneSymBol.ttf) normal normal 700 normal>) = 10.335\n",
            "DEBUG:matplotlib.font_manager:findfont: score(<Font 'STIXNonUnicode' (STIXNonUniBolIta.ttf) italic normal 700 normal>) = 11.335\n",
            "DEBUG:matplotlib.font_manager:findfont: score(<Font 'STIXSizeThreeSym' (STIXSizThreeSymReg.ttf) normal normal regular normal>) = 10.05\n",
            "DEBUG:matplotlib.font_manager:findfont: score(<Font 'DejaVu Sans' (DejaVuSans-BoldOblique.ttf) oblique normal 700 normal>) = 1.335\n",
            "DEBUG:matplotlib.font_manager:findfont: score(<Font 'DejaVu Serif' (DejaVuSerif-BoldItalic.ttf) italic normal 700 normal>) = 11.335\n",
            "DEBUG:matplotlib.font_manager:findfont: score(<Font 'DejaVu Sans Mono' (DejaVuSansMono-Oblique.ttf) oblique normal 400 normal>) = 11.05\n",
            "DEBUG:matplotlib.font_manager:findfont: score(<Font 'cmss10' (cmss10.ttf) normal normal 400 normal>) = 10.05\n",
            "DEBUG:matplotlib.font_manager:findfont: score(<Font 'STIXGeneral' (STIXGeneral.ttf) normal normal regular normal>) = 10.05\n",
            "DEBUG:matplotlib.font_manager:findfont: score(<Font 'STIXSizeTwoSym' (STIXSizTwoSymBol.ttf) normal normal 700 normal>) = 10.335\n",
            "DEBUG:matplotlib.font_manager:findfont: score(<Font 'DejaVu Serif' (DejaVuSerif-Italic.ttf) italic normal 400 normal>) = 11.05\n",
            "DEBUG:matplotlib.font_manager:findfont: score(<Font 'STIXSizeFiveSym' (STIXSizFiveSymReg.ttf) normal normal regular normal>) = 10.05\n",
            "DEBUG:matplotlib.font_manager:findfont: score(<Font 'STIXGeneral' (STIXGeneralItalic.ttf) italic normal 400 normal>) = 11.05\n",
            "DEBUG:matplotlib.font_manager:findfont: score(<Font 'DejaVu Serif Display' (DejaVuSerifDisplay.ttf) normal normal 400 normal>) = 10.05\n",
            "DEBUG:matplotlib.font_manager:findfont: score(<Font 'DejaVu Sans Mono' (DejaVuSansMono.ttf) normal normal 400 normal>) = 10.05\n",
            "DEBUG:matplotlib.font_manager:findfont: score(<Font 'DejaVu Sans Mono' (DejaVuSansMono-Bold.ttf) normal normal 700 normal>) = 10.335\n",
            "DEBUG:matplotlib.font_manager:findfont: score(<Font 'STIXNonUnicode' (STIXNonUniBol.ttf) normal normal 700 normal>) = 10.335\n",
            "DEBUG:matplotlib.font_manager:findfont: score(<Font 'STIXNonUnicode' (STIXNonUniIta.ttf) italic normal 400 normal>) = 11.05\n",
            "DEBUG:matplotlib.font_manager:findfont: score(<Font 'STIXSizeThreeSym' (STIXSizThreeSymBol.ttf) normal normal 700 normal>) = 10.335\n",
            "DEBUG:matplotlib.font_manager:findfont: score(<Font 'DejaVu Serif' (DejaVuSerif-Bold.ttf) normal normal 700 normal>) = 10.335\n",
            "DEBUG:matplotlib.font_manager:findfont: score(<Font 'DejaVu Sans Display' (DejaVuSansDisplay.ttf) normal normal 400 normal>) = 10.05\n",
            "DEBUG:matplotlib.font_manager:findfont: score(<Font 'DejaVu Sans Mono' (DejaVuSansMono-BoldOblique.ttf) oblique normal 700 normal>) = 11.335\n",
            "DEBUG:matplotlib.font_manager:findfont: score(<Font 'STIXSizeFourSym' (STIXSizFourSymReg.ttf) normal normal regular normal>) = 10.05\n",
            "DEBUG:matplotlib.font_manager:findfont: score(<Font 'DejaVu Sans' (DejaVuSans.ttf) normal normal 400 normal>) = 0.05\n",
            "DEBUG:matplotlib.font_manager:findfont: score(<Font 'cmmi10' (cmmi10.ttf) normal normal 400 normal>) = 10.05\n",
            "DEBUG:matplotlib.font_manager:findfont: score(<Font 'cmtt10' (cmtt10.ttf) normal normal 400 normal>) = 10.05\n",
            "DEBUG:matplotlib.font_manager:findfont: score(<Font 'STIXSizeOneSym' (STIXSizOneSymReg.ttf) normal normal regular normal>) = 10.05\n",
            "DEBUG:matplotlib.font_manager:findfont: score(<Font 'cmb10' (cmb10.ttf) normal normal 400 normal>) = 10.05\n",
            "DEBUG:matplotlib.font_manager:findfont: score(<Font 'STIXSizeFourSym' (STIXSizFourSymBol.ttf) normal normal 700 normal>) = 10.335\n",
            "DEBUG:matplotlib.font_manager:findfont: score(<Font 'cmr10' (cmr10.ttf) normal normal 400 normal>) = 10.05\n",
            "DEBUG:matplotlib.font_manager:findfont: score(<Font 'Liberation Mono' (LiberationMono-BoldItalic.ttf) italic normal 700 normal>) = 11.335\n",
            "DEBUG:matplotlib.font_manager:findfont: score(<Font 'Liberation Serif' (LiberationSerif-BoldItalic.ttf) italic normal 700 normal>) = 11.335\n",
            "DEBUG:matplotlib.font_manager:findfont: score(<Font 'Liberation Sans Narrow' (LiberationSansNarrow-BoldItalic.ttf) italic normal 700 condensed>) = 11.535\n",
            "DEBUG:matplotlib.font_manager:findfont: score(<Font 'Liberation Sans' (LiberationSans-Regular.ttf) normal normal 400 normal>) = 10.05\n",
            "DEBUG:matplotlib.font_manager:findfont: score(<Font 'Liberation Sans' (LiberationSans-Bold.ttf) normal normal 700 normal>) = 10.335\n",
            "DEBUG:matplotlib.font_manager:findfont: score(<Font 'Liberation Sans' (LiberationSans-Italic.ttf) italic normal 400 normal>) = 11.05\n",
            "DEBUG:matplotlib.font_manager:findfont: score(<Font 'Liberation Sans' (LiberationSans-BoldItalic.ttf) italic normal 700 normal>) = 11.335\n",
            "DEBUG:matplotlib.font_manager:findfont: score(<Font 'Liberation Sans Narrow' (LiberationSansNarrow-Italic.ttf) italic normal 400 condensed>) = 11.25\n",
            "DEBUG:matplotlib.font_manager:findfont: score(<Font 'Liberation Mono' (LiberationMono-Regular.ttf) normal normal 400 normal>) = 10.05\n",
            "DEBUG:matplotlib.font_manager:findfont: score(<Font 'Liberation Serif' (LiberationSerif-Regular.ttf) normal normal 400 normal>) = 10.05\n",
            "DEBUG:matplotlib.font_manager:findfont: score(<Font 'Liberation Serif' (LiberationSerif-Bold.ttf) normal normal 700 normal>) = 10.335\n",
            "DEBUG:matplotlib.font_manager:findfont: score(<Font 'Liberation Mono' (LiberationMono-Bold.ttf) normal normal 700 normal>) = 10.335\n",
            "DEBUG:matplotlib.font_manager:findfont: score(<Font 'Liberation Sans Narrow' (LiberationSansNarrow-Bold.ttf) normal normal 700 condensed>) = 10.535\n",
            "DEBUG:matplotlib.font_manager:findfont: score(<Font 'Liberation Serif' (LiberationSerif-Italic.ttf) italic normal 400 normal>) = 11.05\n",
            "DEBUG:matplotlib.font_manager:findfont: score(<Font 'Liberation Mono' (LiberationMono-Italic.ttf) italic normal 400 normal>) = 11.05\n",
            "DEBUG:matplotlib.font_manager:findfont: score(<Font 'Liberation Sans Narrow' (LiberationSansNarrow-Regular.ttf) normal normal 400 condensed>) = 10.25\n",
            "DEBUG:matplotlib.font_manager:findfont: score(<Font 'Humor Sans' (Humor-Sans.ttf) normal normal 400 normal>) = 10.05\n",
            "DEBUG:matplotlib.font_manager:findfont: Matching sans\\-serif:style=normal:variant=normal:weight=normal:stretch=normal:size=10.0 to DejaVu Sans ('/usr/local/lib/python3.7/dist-packages/matplotlib/mpl-data/fonts/ttf/DejaVuSans.ttf') with score of 0.050000.\n"
          ],
          "name": "stderr"
        },
        {
          "output_type": "display_data",
          "data": {
            "image/png": "[encoded data removed]",
            "text/plain": [
              "<Figure size 504x360 with 1 Axes>"
            ]
          },
          "metadata": {
            "tags": [],
            "needs_background": "light"
          }
        }
      ]
    },
    {
      "cell_type": "code",
      "metadata": {
        "id": "tLDXr9wo03O8"
      },
      "source": [
        "# Since we are solving an unsupervised learning problem, we need to cluster users with KMeans Clustering\n",
        "\n",
        "from sklearn.cluster import KMeans\n",
        "kmeans = KMeans(n_clusters=4, random_state=0)\n",
        "label = kmeans.fit_predict(sess_df)\n",
        "\n",
        "# Adding another column containing the label\n",
        "sess_df['label']=label"
      ],
      "execution_count": 33,
      "outputs": []
    },
    {
      "cell_type": "code",
      "metadata": {
        "colab": {
          "base_uri": "https://localhost:8080/",
          "height": 421
        },
        "id": "6Tn9afec1Hod",
        "outputId": "9d957ec2-cdcc-4a58-df9c-d7e9340bef80"
      },
      "source": [
        "# Plotting the Ip address against requested_page with the clustered label\n",
        "plt.figure(figsize=(7, 5))\n",
        "plt.title(\"IP address versus requested pages\")\n",
        "sns.scatterplot(sess_df['IP_address'], sess_df['Requested_Page'], hue=label)\n",
        "plt.xlabel(\"Encoded IP Addresses\")\n",
        "plt.ylabel(\"Encoded web pages\")"
      ],
      "execution_count": 34,
      "outputs": [
        {
          "output_type": "stream",
          "text": [
            "/usr/local/lib/python3.7/dist-packages/seaborn/_decorators.py:43: FutureWarning: Pass the following variables as keyword args: x, y. From version 0.12, the only valid positional argument will be `data`, and passing other arguments without an explicit keyword will result in an error or misinterpretation.\n",
            "  FutureWarning\n"
          ],
          "name": "stderr"
        },
        {
          "output_type": "execute_result",
          "data": {
            "text/plain": [
              "Text(0, 0.5, 'Encoded web pages')"
            ]
          },
          "metadata": {
            "tags": []
          },
          "execution_count": 34
        },
        {
          "output_type": "display_data",
          "data": {
            "image/png": "[encoded data removed]",
            "text/plain": [
              "<Figure size 504x360 with 1 Axes>"
            ]
          },
          "metadata": {
            "tags": [],
            "needs_background": "light"
          }
        }
      ]
    },
    {
      "cell_type": "code",
      "metadata": {
        "colab": {
          "base_uri": "https://localhost:8080/",
          "height": 351
        },
        "id": "NhcC9wXZmExp",
        "outputId": "6f1d2d8d-61a0-4360-bc2c-7b7171948ab5"
      },
      "source": [
        "# Since we have a linear relationship between users and requested pages, let's use PCA for dimensionality reduction\n",
        "# Instead of manifold learning which is best for non-linear relationships\n",
        "from sklearn.decomposition import PCA\n",
        "\n",
        "model = PCA(2)\n",
        "projected = model.fit_transform(sess_df)\n",
        "plt.scatter(projected[:, 0], projected[:, 1], c=label, edgecolor='none')\n",
        "plt.xlabel('component 1')\n",
        "plt.ylabel('component 2')\n",
        "plt.colorbar();"
      ],
      "execution_count": 35,
      "outputs": [
        {
          "output_type": "stream",
          "text": [
            "DEBUG:matplotlib.colorbar:locator: <matplotlib.colorbar._ColorbarAutoLocator object at 0x7fc30dee2c50>\n",
            "DEBUG:matplotlib.colorbar:Using auto colorbar locator on colorbar\n",
            "DEBUG:matplotlib.colorbar:locator: <matplotlib.colorbar._ColorbarAutoLocator object at 0x7fc30dee2c50>\n",
            "DEBUG:matplotlib.colorbar:Setting pcolormesh\n"
          ],
          "name": "stderr"
        },
        {
          "output_type": "display_data",
          "data": {
            "image/png": "[encoded data removed]",
            "text/plain": [
              "<Figure size 432x288 with 2 Axes>"
            ]
          },
          "metadata": {
            "tags": [],
            "needs_background": "light"
          }
        }
      ]
    },
    {
      "cell_type": "code",
      "metadata": {
        "id": "atMSNjde04gL"
      },
      "source": [
        ""
      ],
      "execution_count": 35,
      "outputs": []
    },
    {
      "cell_type": "code",
      "metadata": {
        "id": "zzt0RgMK4X-e"
      },
      "source": [
        ""
      ],
      "execution_count": 35,
      "outputs": []
    }
  ]
}